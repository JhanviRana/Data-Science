{
 "cells": [
  {
   "cell_type": "markdown",
   "id": "09966ea0-d025-493f-90f8-aa43c13516c6",
   "metadata": {},
   "source": [
    "Question 1: You are given five input features and want to predict the salary\n",
    "based on the features.\n",
    "x1 is the experience in data science, x2 is the experience in math, x3 is the\n",
    "degree level (1 for graduate and 0 for undergraduate), x4 is the interaction\n",
    "between experience in data science and math, x5 is the interaction\n",
    "between the experience in data science and degree. Assuming that you\n",
    "are fitting a linear regression model, with a weight vector being {50, 20,\n",
    "0.07, 35, 0.01, -10}, answer the following questions:\n",
    "a) Write the equation of the regression model (2 points)\n",
    "b) For a fixed value of data science and math experience, what can\n",
    "you conclude about the salaries of graduate vs undergraduates? (5\n",
    "points)\n",
    "c) Since the coefficient of interaction between experience in data\n",
    "science and math is small, can you say that there is very little\n",
    "evidence of an interaction effect? Explain your answer. (3 points"
   ]
  },
  {
   "cell_type": "markdown",
   "id": "c20b3285-badf-40e4-90de-224440f09663",
   "metadata": {},
   "source": [
    "a)y = b0*x0+b1*x1+b2*x2+b3*x3+b4*x4+b5*x5\n",
    "x4 = x1*x2\n",
    "x5= x1*x3\n",
    "y = 50*x0+20*x1+0.07*x2+35*x3+0.01*x1*x2-10*x1*x3"
   ]
  },
  {
   "cell_type": "markdown",
   "id": "84ab56b5-5564-4580-9cb4-87ad4dce7078",
   "metadata": {},
   "source": [
    "b)As x1 and x2 are fixed and xo is constant,\n",
    "y = c0+c1+c2+35*x3+c4-10*x1*x3\n",
    "y = c+35*x3-10*x1*x3\n",
    "y = c+x3*(35-10*x1)\n",
    "if x< 3.5\n",
    "   Graduate Salary will be more than undergrad\n",
    "if  x>3.5\n",
    "    Graduate Salary will be less than undergrad"
   ]
  },
  {
   "cell_type": "markdown",
   "id": "31da4f66-f667-43f7-aaa4-eb03a5c06375",
   "metadata": {},
   "source": [
    "c)Since the coefficient of interaction between experience in datascience and math is small, we cannot say that there is very little\n",
    "evidence of an interaction effect.\n",
    "It depends on value of x1 and x2"
   ]
  },
  {
   "cell_type": "markdown",
   "id": "9ddba3aa-fd93-4748-86da-ad8dd3cd6643",
   "metadata": {},
   "source": [
    "Question 2: You sampled 30 people from a population of 100. You are\n",
    "investigating if the exposure to undergraduate research has an effect on\n",
    "successful admissions in grad school. The control group of 15 people\n",
    "didn’t receive undergraduate research experience and the other 15 people\n",
    "did receive research experience. Carry out analysis to see if there is a\n",
    "significant difference between the two groups (use a p-value of 0.05).\n",
    "Control group (mean = 30, std_dev = 6.63); other group (mean = 26,\n",
    "std_dev = 6.20). (10 points) "
   ]
  },
  {
   "cell_type": "code",
   "execution_count": null,
   "id": "00c1382d-3ccd-498b-ab1b-d37e82b9729c",
   "metadata": {},
   "outputs": [],
   "source": []
  },
  {
   "cell_type": "code",
   "execution_count": 1,
   "id": "4bd044f6-6f3d-48ec-af9d-8706dd5ad9d9",
   "metadata": {
    "tags": []
   },
   "outputs": [],
   "source": [
    "import numpy as np\n",
    "import matplotlib.pyplot as plt\n",
    "import pandas as pd\n",
    "from sklearn import datasets, linear_model\n",
    "from sklearn.datasets import load_iris\n",
    "from sklearn.datasets import make_regression\n",
    "from sklearn.metrics import mean_squared_error, r2_score\n",
    "from sklearn.model_selection import train_test_split\n",
    "import math\n",
    "import scipy\n",
    "from scipy.stats import t\n"
   ]
  },
  {
   "cell_type": "code",
   "execution_count": 2,
   "id": "907e56b5-2b19-4233-888c-3188ebd42f59",
   "metadata": {},
   "outputs": [],
   "source": [
    "x1_mean = 30\n",
    "x2_mean = 26\n",
    "std1 =6.63\n",
    "std2 =6.2\n",
    "sample1_size =15\n",
    "sample2_size =15"
   ]
  },
  {
   "cell_type": "code",
   "execution_count": 3,
   "id": "93a8c7e5-c0bf-444d-a617-29cd90a1b9bb",
   "metadata": {},
   "outputs": [
    {
     "name": "stdout",
     "output_type": "stream",
     "text": [
      "1.7066724759368215\n"
     ]
    }
   ],
   "source": [
    "t = (x1_mean-x2_mean)/math.sqrt(std1*std1/sample1_size+std2*std2/sample2_size)\n",
    "print(t)"
   ]
  },
  {
   "cell_type": "code",
   "execution_count": 4,
   "id": "d0489d7e-03df-4214-87a6-bc1da812b6cc",
   "metadata": {},
   "outputs": [
    {
     "name": "stdout",
     "output_type": "stream",
     "text": [
      "<scipy.stats._distn_infrastructure.rv_continuous_frozen object at 0x7f59fdc108b0>\n"
     ]
    }
   ],
   "source": [
    "distr = scipy.stats.t(28)\n",
    "print(distr)"
   ]
  },
  {
   "cell_type": "code",
   "execution_count": 5,
   "id": "c18d1a26-17f1-416e-ba5c-a941b95247b4",
   "metadata": {},
   "outputs": [
    {
     "data": {
      "text/plain": [
       "0.09907855797341103"
      ]
     },
     "execution_count": 5,
     "metadata": {},
     "output_type": "execute_result"
    }
   ],
   "source": [
    "p_value = (1-distr.cdf(1.706))*2\n",
    "p_value"
   ]
  },
  {
   "cell_type": "code",
   "execution_count": 6,
   "id": "f214b6a3-1f6c-4b77-bd44-ce8a1b09857c",
   "metadata": {},
   "outputs": [
    {
     "name": "stdout",
     "output_type": "stream",
     "text": [
      "Don't reject Null Hypothesis\n"
     ]
    }
   ],
   "source": [
    "if (p_value>0.05):\n",
    "    print(\"Don't reject Null Hypothesis\")\n",
    "else:\n",
    "        print(\"Accept Null Hypothesis\")"
   ]
  },
  {
   "cell_type": "markdown",
   "id": "6035d591-10fa-4932-8a83-6ef97dc95aa5",
   "metadata": {},
   "source": [
    "Question 3: Submit the class exercise (done on 10/16) along with plotting\n",
    "first 10 steps of the gradient descent in the form of the corresponding\n",
    "linear regression lines. (20 points) "
   ]
  },
  {
   "cell_type": "markdown",
   "id": "ed567879-8d17-4f5a-8d80-a50bce4ab386",
   "metadata": {},
   "source": [
    "## data and true fit"
   ]
  },
  {
   "cell_type": "code",
   "execution_count": null,
   "id": "c3f09215-5469-4631-9e06-97338a89b9fa",
   "metadata": {},
   "outputs": [],
   "source": []
  },
  {
   "cell_type": "code",
   "execution_count": 7,
   "id": "e5c295d4-300f-4b49-bd58-49dfdf01eb62",
   "metadata": {
    "tags": []
   },
   "outputs": [],
   "source": [
    "np.random.seed(42)  # to make this code example reproducible\n",
    "m = 100  # number of instances\n",
    "X = np.random.rand(m, 1)  # column vector\n",
    "y =  1+ 2 * X + np.random.randn(m, 1)  # column vector"
   ]
  },
  {
   "cell_type": "code",
   "execution_count": 8,
   "id": "58cbfc94-0078-4629-bf7e-403de1e47a67",
   "metadata": {
    "tags": []
   },
   "outputs": [],
   "source": [
    "from sklearn.preprocessing import add_dummy_feature\n",
    "# the above function add x0 = 1 to your instances \n",
    "X = add_dummy_feature(X)\n",
    "##### one line of code here ##### \n"
   ]
  },
  {
   "cell_type": "code",
   "execution_count": 9,
   "id": "68d4a87a-2504-4956-bf16-75737c7b46c3",
   "metadata": {
    "tags": []
   },
   "outputs": [],
   "source": [
    "### use least squares way to calculate your best parameters\n",
    "X_transpose = np.transpose(X)\n",
    "X_p =np.matmul(X_transpose,X)\n",
    "X_i =np.linalg.inv(X_p)\n",
    "X_p1 = np.matmul(X_i,X_transpose)\n",
    "theta_best = np.matmul(X_p1,y)\n",
    "\n",
    "\n",
    "## theta_best = your code ###\n"
   ]
  },
  {
   "cell_type": "code",
   "execution_count": 10,
   "id": "36544984-5933-46df-9b4c-ca3254179b93",
   "metadata": {},
   "outputs": [
    {
     "name": "stdout",
     "output_type": "stream",
     "text": [
      "[[1.21509616]\n",
      " [1.54022677]]\n"
     ]
    }
   ],
   "source": [
    "# print theta_best\n",
    "print(theta_best)\n"
   ]
  },
  {
   "cell_type": "code",
   "execution_count": 11,
   "id": "2bdf14d7-54c1-41ce-a757-84309d8fef4a",
   "metadata": {
    "tags": []
   },
   "outputs": [
    {
     "data": {
      "text/plain": [
       "array([[1., 0.],\n",
       "       [1., 1.]])"
      ]
     },
     "execution_count": 11,
     "metadata": {},
     "output_type": "execute_result"
    }
   ],
   "source": [
    "# make a prediction\n",
    "X_new = np.array([[0],[1]])\n",
    "X_new = add_dummy_feature(X_new)\n",
    "X_new"
   ]
  },
  {
   "cell_type": "code",
   "execution_count": 12,
   "id": "af2a9316-0363-4ea5-a565-78ddbcadce26",
   "metadata": {
    "tags": []
   },
   "outputs": [
    {
     "data": {
      "text/plain": [
       "array([[1.21509616],\n",
       "       [2.75532293]])"
      ]
     },
     "execution_count": 12,
     "metadata": {},
     "output_type": "execute_result"
    }
   ],
   "source": [
    "Y_new= np.matmul(X_new,theta_best)\n",
    "Y_new"
   ]
  },
  {
   "cell_type": "code",
   "execution_count": 13,
   "id": "50aa3c69-2ffc-4717-8c36-07f7816631e3",
   "metadata": {
    "tags": []
   },
   "outputs": [
    {
     "data": {
      "text/plain": [
       "(100, 2)"
      ]
     },
     "execution_count": 13,
     "metadata": {},
     "output_type": "execute_result"
    }
   ],
   "source": [
    "X.shape"
   ]
  },
  {
   "cell_type": "code",
   "execution_count": 14,
   "id": "d408617c-3bc6-483a-acd1-af73d0eca89b",
   "metadata": {
    "tags": []
   },
   "outputs": [
    {
     "data": {
      "text/plain": [
       "(100, 1)"
      ]
     },
     "execution_count": 14,
     "metadata": {},
     "output_type": "execute_result"
    }
   ],
   "source": [
    "y.shape"
   ]
  },
  {
   "cell_type": "code",
   "execution_count": 15,
   "id": "f64eaa98-15db-456a-9adc-9396be65a8fe",
   "metadata": {
    "tags": []
   },
   "outputs": [
    {
     "data": {
      "text/plain": [
       "<matplotlib.collections.PathCollection at 0x7f59143d6770>"
      ]
     },
     "execution_count": 15,
     "metadata": {},
     "output_type": "execute_result"
    },
    {
     "data": {
      "image/png": "[encoded data removed]",
      "text/plain": [
       "<Figure size 640x480 with 1 Axes>"
      ]
     },
     "metadata": {},
     "output_type": "display_data"
    }
   ],
   "source": [
    "# plot the predictions and your data points \n",
    "Y_predict = np.matmul(X,theta_best)\n",
    "#fix,ax\n",
    "plt.plot(X,Y_predict)\n",
    "plt.scatter(X[:,1],y)"
   ]
  },
  {
   "cell_type": "code",
   "execution_count": 16,
   "id": "3e301b79-01db-4d55-8bf7-8cb65cfd089a",
   "metadata": {
    "tags": []
   },
   "outputs": [
    {
     "name": "stdout",
     "output_type": "stream",
     "text": [
      "Mean squared error of the model is : 0.87\n",
      "Coefficient of determination (R-squared) is:-0.04116731189928835\n"
     ]
    }
   ],
   "source": [
    "from sklearn.linear_model import LinearRegression\n",
    "#fit a linear regression model and print the coefficients (look at sklearn documentation)\n",
    "# Split the data into training/testing sets (80:20 split)\n",
    "X_train, X_test, y_train, y_test = train_test_split(X, y, test_size= 0.20, random_state= 101)\n",
    "# Create a linear regression object\n",
    "reg_model = linear_model.LinearRegression(fit_intercept=False)\n",
    "#model training\n",
    "reg_model.fit(X, y)\n",
    "\n",
    "# predictions using the trained model\n",
    "y_pred = reg_model.predict(X_test)\n",
    "\n",
    "# model evaluation\n",
    "print(\"Mean squared error of the model is : {MSE:.2f}\" .format(MSE= mean_squared_error(y_test, y_pred)))\n",
    "print(\"Coefficient of determination (R-squared) is:{r2}\".format (r2=r2_score(y_test, y_pred)))\n",
    "## lin_reg = your code ### "
   ]
  },
  {
   "cell_type": "code",
   "execution_count": 17,
   "id": "49140a16-110b-4040-8c36-e13df88d767a",
   "metadata": {
    "tags": []
   },
   "outputs": [
    {
     "name": "stdout",
     "output_type": "stream",
     "text": [
      "[[1.21509616 1.54022677]]\n",
      "0.0\n"
     ]
    }
   ],
   "source": [
    "coefficient = reg_model.coef_\n",
    "intercept =reg_model.intercept_\n",
    "print(coefficient)\n",
    "print(intercept)"
   ]
  },
  {
   "cell_type": "code",
   "execution_count": null,
   "id": "e97995f1-6e6d-4ea2-b5eb-d05abe3c4aca",
   "metadata": {},
   "outputs": [],
   "source": []
  },
  {
   "cell_type": "code",
   "execution_count": 18,
   "id": "594544b6-2704-4d62-a052-d1f87f0f886d",
   "metadata": {
    "tags": []
   },
   "outputs": [
    {
     "name": "stdout",
     "output_type": "stream",
     "text": [
      "[[1.21509616]\n",
      " [2.75532293]]\n"
     ]
    }
   ],
   "source": [
    "# predict using linear and X_new as provided before \n",
    "y_pred = reg_model.predict(X_test)\n",
    "Y_new = reg_model.predict(X_new)\n",
    "\n",
    "print(Y_new)"
   ]
  },
  {
   "cell_type": "code",
   "execution_count": 19,
   "id": "5233aac7-a363-4361-99ec-dcc5c9f7ea6c",
   "metadata": {
    "tags": []
   },
   "outputs": [
    {
     "data": {
      "text/plain": [
       "1"
      ]
     },
     "execution_count": 19,
     "metadata": {},
     "output_type": "execute_result"
    }
   ],
   "source": [
    "theta = np.random.randint(2)\n",
    "theta"
   ]
  },
  {
   "cell_type": "code",
   "execution_count": 47,
   "id": "460744da-5871-4629-9e5d-87cbde5f2d5b",
   "metadata": {
    "tags": []
   },
   "outputs": [
    {
     "data": {
      "text/plain": [
       "[<matplotlib.lines.Line2D at 0x7f59d8778490>]"
      ]
     },
     "execution_count": 47,
     "metadata": {},
     "output_type": "execute_result"
    },
    {
     "data": {
      "image/png": "[encoded data removed]",
      "text/plain": [
       "<Figure size 640x480 with 1 Axes>"
      ]
     },
     "metadata": {},
     "output_type": "display_data"
    }
   ],
   "source": [
    "# gradient descent\n",
    "r = 0.1  # learning rate\n",
    "n_epochs = 1000\n",
    "np.random.seed(100)\n",
    "\n",
    "theta = np.array([[0],[1]])\n",
    "\n",
    " # randomly initialized model parameters\n",
    "\n",
    "for epoch in range(n_epochs):\n",
    "    i=0\n",
    "    grad = (2/100)*(np.transpose(X)@(X@theta-y))\n",
    "    theta = theta - r*grad\n",
    "    Y =theta[0]*X[:,1]+theta[1]\n",
    "    if (i<11):\n",
    "        plt.plot(X[:,1],Y,linewidth=0.5,color ='orange')\n",
    "    i=i+1\n",
    "    \n",
    "    # Your code here \n",
    "    \n",
    "Y =theta[0]*X[:,1]+theta[1]\n",
    "\n",
    "plt.scatter(X[:,1],y,marker='x', s=40, color='black',linewidth=1.2,label='Final Value of theta')\n",
    "plt.plot\n",
    "plt.legend()\n",
    "plt.plot(X[:,1],Y)"
   ]
  },
  {
   "cell_type": "code",
   "execution_count": 40,
   "id": "4afa4727-799d-4447-94dc-fd3da5715ace",
   "metadata": {
    "tags": []
   },
   "outputs": [
    {
     "name": "stdout",
     "output_type": "stream",
     "text": [
      "[[1.21509614]\n",
      " [1.54022681]]\n"
     ]
    }
   ],
   "source": [
    "#print theta computed from gradient descent \n",
    "print(theta)"
   ]
  },
  {
   "cell_type": "code",
   "execution_count": 42,
   "id": "20722a86-507a-46df-96e8-68089945d0a6",
   "metadata": {
    "tags": []
   },
   "outputs": [],
   "source": []
  },
  {
   "cell_type": "code",
   "execution_count": null,
   "id": "e0a4f27a-ee3a-4eab-8932-572ab650d28e",
   "metadata": {
    "tags": []
   },
   "outputs": [],
   "source": []
  },
  {
   "cell_type": "code",
   "execution_count": null,
   "id": "d10bbf7c-ab42-498f-9d1a-779e27f71df8",
   "metadata": {},
   "outputs": [],
   "source": []
  }
 ],
 "metadata": {
  "kernelspec": {
   "display_name": "Python 3 (ipykernel)",
   "language": "python",
   "name": "python3"
  },
  "language_info": {
   "codemirror_mode": {
    "name": "ipython",
    "version": 3
   },
   "file_extension": ".py",
   "mimetype": "text/x-python",
   "name": "python",
   "nbconvert_exporter": "python",
   "pygments_lexer": "ipython3",
   "version": "3.10.10"
  }
 },
 "nbformat": 4,
 "nbformat_minor": 5
}
