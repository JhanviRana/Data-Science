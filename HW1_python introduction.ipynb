{
 "cells": [
  {
   "cell_type": "markdown",
   "id": "31248c73-4237-4825-90dc-6868e86f5da4",
   "metadata": {},
   "source": [
    "## HW 1 ( 30 points)"
   ]
  },
  {
   "cell_type": "markdown",
   "id": "78957f83-fa97-4d36-ae0b-2f5331f91fc7",
   "metadata": {},
   "source": [
    "#### Submit your homework as a. ipynb file. Use the format 'HW1_LastName_FirstName.ipynb'. If there are no comments/markdown describing what you have done, your work will not be graded. Follow the code of conduct. "
   ]
  },
  {
   "cell_type": "markdown",
   "id": "5e3c0416-838e-4b72-8851-92d9e788e810",
   "metadata": {},
   "source": [
    "### Question 1 (15 points)"
   ]
  },
  {
   "cell_type": "markdown",
   "id": "8afb4315-0c70-4aa5-aaca-db1b615a927e",
   "metadata": {},
   "source": [
    "You are given a list and a dictionary. For the elements in the list that are same as the keys in the dictionary, replace those elements in the list with 'cheme' + the nth element of the value corresponding to that particular key in the dictionary. \n",
    "\n",
    "course_list = ['unit-operations','clean-energy','thermodynamics','math','data-science'] <br/>\n",
    "course_code = {'unit-operations': [510,410,310], 'thermodynamics':[375,475,575], 'data-science':[345,445,545]} <br/>\n",
    "for n = 2, the output list should be printed:<br/>\n",
    "output_list = ['cheme310','clean-energy','cheme575','math','cheme545']"
   ]
  },
  {
   "cell_type": "code",
   "execution_count": null,
   "id": "bc79a14c-736d-43d0-99e9-15305807ae70",
   "metadata": {},
   "outputs": [],
   "source": []
  },
  {
   "cell_type": "code",
   "execution_count": null,
   "id": "bb0738b7-fd15-4886-bf27-30400ce61e3c",
   "metadata": {},
   "outputs": [],
   "source": []
  },
  {
   "cell_type": "markdown",
   "id": "1efd46aa-7454-41f8-927c-f3cecd7d5d2e",
   "metadata": {
    "tags": []
   },
   "source": [
    "### Question 2 (15 points)"
   ]
  },
  {
   "cell_type": "markdown",
   "id": "2b307912-0fe6-45c9-b3b9-5a16057e9aac",
   "metadata": {},
   "source": [
    "Write a function that takes in a string and returns a reversed copy of the string.\tThe only string operation you are allowed to use is string concatenation.  </br>a) without recursion </br>\n",
    "b) using recursion </br> "
   ]
  },
  {
   "cell_type": "code",
   "execution_count": null,
   "id": "9eafa086-265c-4f38-976d-e71d5ec3e8b2",
   "metadata": {},
   "outputs": [],
   "source": []
  },
  {
   "cell_type": "code",
   "execution_count": null,
   "id": "72313142-ae9d-4947-a893-5a9606536ba8",
   "metadata": {},
   "outputs": [],
   "source": []
  }
 ],
 "metadata": {
  "kernelspec": {
   "display_name": "Python 3 (ipykernel)",
   "language": "python",
   "name": "python3"
  },
  "language_info": {
   "codemirror_mode": {
    "name": "ipython",
    "version": 3
   },
   "file_extension": ".py",
   "mimetype": "text/x-python",
   "name": "python",
   "nbconvert_exporter": "python",
   "pygments_lexer": "ipython3",
   "version": "3.10.10"
  }
 },
 "nbformat": 4,
 "nbformat_minor": 5
}
