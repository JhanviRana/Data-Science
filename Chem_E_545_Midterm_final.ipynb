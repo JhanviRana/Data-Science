{
 "cells": [
  {
   "cell_type": "markdown",
   "metadata": {
    "id": "_VfujU46Htn2"
   },
   "source": [
    "# CHEM E 545: Midterm Project (60 points)"
   ]
  },
  {
   "cell_type": "markdown",
   "metadata": {
    "id": "VgFS-fG_G06i"
   },
   "source": [
    "In this project, we want to predict biodegradibility of different compounds. Supervised Machine Learning (SML) is an important tool that can take into account multiple attributes about a compound including its chemical structure and predict its biodegradability in the environment. SML models can help in figuring out which chemicals are going to be environment friendly helping in making responsible choices during chemical selection for different processes/products.\n",
    "\n",
    "In this project, wherever you need to use a random_state/seed use the number 100. All plots should have title and labels"
   ]
  },
  {
   "cell_type": "markdown",
   "metadata": {
    "id": "UuK1Oim-G7ok"
   },
   "source": [
    "## Part (a): Regression Task\n",
    "###  Data Preparation: (15 points)\n",
    "Load the data file. Your data contains a feature called as 'Smiles'. The simplified molecular-input line-entry system (SMILES) is a specification in the form of a line notation for describing the structure of chemical species using short ASCII strings. You can read more [here](https://en.wikipedia.org/wiki/Simplified_molecular-input_line-entry_system).\n",
    "\n",
    "We want to convert this string to actual molecular descriptors. <b> Hint </b>: You will have a total of 209 descriptors for each Smiles string. You can do that by using [rdkit](https://www.rdkit.org/) package and its descriptors. You can import these as follows:"
   ]
  },
  {
   "cell_type": "code",
   "execution_count": 5,
   "metadata": {
    "colab": {
     "base_uri": "https://localhost:8080/"
    },
    "id": "SCaJNRvxGU7u",
    "outputId": "8877dff5-271f-42ee-ff63-ecda1bc106c5"
   },
   "outputs": [
    {
     "name": "stdout",
     "output_type": "stream",
     "text": [
      "Requirement already satisfied: rdkit in c:\\users\\admin\\anaconda4\\lib\\site-packages (2023.9.1)\n",
      "Requirement already satisfied: numpy in c:\\users\\admin\\anaconda4\\lib\\site-packages (from rdkit) (1.24.3)\n",
      "Requirement already satisfied: Pillow in c:\\users\\admin\\anaconda4\\lib\\site-packages (from rdkit) (9.4.0)\n"
     ]
    }
   ],
   "source": [
    "# Importing the rdkit\n",
    "!pip install rdkit\n",
    "import rdkit\n",
    "from rdkit import Chem\n",
    "from rdkit.Chem import Descriptors\n",
    "import numpy as np\n",
    "import pandas as pd\n",
    "import matplotlib.pyplot as plt"
   ]
  },
  {
   "cell_type": "code",
   "execution_count": 6,
   "metadata": {
    "id": "zJH6_GaeOiJh"
   },
   "outputs": [],
   "source": [
    "# Importing the library\n",
    "from sklearn import datasets, linear_model\n",
    "from sklearn.datasets import load_iris\n",
    "from sklearn.datasets import make_regression\n",
    "from sklearn.metrics import mean_squared_error, r2_score\n",
    "from sklearn.model_selection import train_test_split"
   ]
  },
  {
   "cell_type": "markdown",
   "metadata": {
    "id": "DYpCafsMHJfU"
   },
   "source": [
    "Other than smiles, your dataset has 5 other features and one target/output variable (biodegradation percentage). You are trying to build a model using all the features to predict the percentage biodegradation. Therefore, combine the 209 descriptors with the 5 remaining features from your dataset. Next, remove any rows that contains NaNs. Finally, remove any feature that still contains a smiles string and the feature 'Ipc'."
   ]
  },
  {
   "cell_type": "markdown",
   "metadata": {},
   "source": [
    "# 1.DATA READING AND CLEANING"
   ]
  },
  {
   "cell_type": "code",
   "execution_count": 7,
   "metadata": {
    "colab": {
     "base_uri": "https://localhost:8080/",
     "height": 206
    },
    "id": "5tHBYF05HkZQ",
    "outputId": "da71c238-5cdb-42a2-9e01-0541fb9ce018"
   },
   "outputs": [
    {
     "data": {
      "text/html": [
       "<div>\n",
       "<style scoped>\n",
       "    .dataframe tbody tr th:only-of-type {\n",
       "        vertical-align: middle;\n",
       "    }\n",
       "\n",
       "    .dataframe tbody tr th {\n",
       "        vertical-align: top;\n",
       "    }\n",
       "\n",
       "    .dataframe thead th {\n",
       "        text-align: right;\n",
       "    }\n",
       "</style>\n",
       "<table border=\"1\" class=\"dataframe\">\n",
       "  <thead>\n",
       "    <tr style=\"text-align: right;\">\n",
       "      <th></th>\n",
       "      <th>Smiles</th>\n",
       "      <th>Reliability</th>\n",
       "      <th>Type</th>\n",
       "      <th>StandardTest</th>\n",
       "      <th>System_setup</th>\n",
       "      <th>reaction_time</th>\n",
       "      <th>Biodegradation</th>\n",
       "    </tr>\n",
       "  </thead>\n",
       "  <tbody>\n",
       "    <tr>\n",
       "      <th>0</th>\n",
       "      <td>NC12CC3CC(CC(C3)C1)C2.[Cl-].[H+]</td>\n",
       "      <td>2</td>\n",
       "      <td>Inherent</td>\n",
       "      <td>Test 302 B</td>\n",
       "      <td>DOC Die Away</td>\n",
       "      <td>28.0</td>\n",
       "      <td>0.10</td>\n",
       "    </tr>\n",
       "    <tr>\n",
       "      <th>1</th>\n",
       "      <td>Cl[Si](Cl)(c1ccccc1)c1ccccc1</td>\n",
       "      <td>1</td>\n",
       "      <td>Ready</td>\n",
       "      <td>Test 301 C</td>\n",
       "      <td>Closed Respirometer</td>\n",
       "      <td>28.0</td>\n",
       "      <td>0.00</td>\n",
       "    </tr>\n",
       "    <tr>\n",
       "      <th>2</th>\n",
       "      <td>[O-][n+]1ccccc1[S-][Zn+2][S-]c1cccc[n+]1[O-]</td>\n",
       "      <td>1</td>\n",
       "      <td>Ready</td>\n",
       "      <td>Test 301 B</td>\n",
       "      <td>CO2 Evolution</td>\n",
       "      <td>8.0</td>\n",
       "      <td>0.17</td>\n",
       "    </tr>\n",
       "    <tr>\n",
       "      <th>3</th>\n",
       "      <td>CC(CC=O)CC(C)(C)C</td>\n",
       "      <td>1</td>\n",
       "      <td>Ready</td>\n",
       "      <td>Test 301 C</td>\n",
       "      <td>Closed Respirometer</td>\n",
       "      <td>28.0</td>\n",
       "      <td>0.07</td>\n",
       "    </tr>\n",
       "    <tr>\n",
       "      <th>4</th>\n",
       "      <td>O=c1c2cccc3cccc(c32)c2nc3cccc4cccc(c43)n12</td>\n",
       "      <td>1</td>\n",
       "      <td>Ready</td>\n",
       "      <td>Test 301 F</td>\n",
       "      <td>Closed Respirometer</td>\n",
       "      <td>14.0</td>\n",
       "      <td>0.01</td>\n",
       "    </tr>\n",
       "  </tbody>\n",
       "</table>\n",
       "</div>"
      ],
      "text/plain": [
       "                                         Smiles  Reliability      Type  \\\n",
       "0              NC12CC3CC(CC(C3)C1)C2.[Cl-].[H+]            2  Inherent   \n",
       "1                  Cl[Si](Cl)(c1ccccc1)c1ccccc1            1     Ready   \n",
       "2  [O-][n+]1ccccc1[S-][Zn+2][S-]c1cccc[n+]1[O-]            1     Ready   \n",
       "3                             CC(CC=O)CC(C)(C)C            1     Ready   \n",
       "4    O=c1c2cccc3cccc(c32)c2nc3cccc4cccc(c43)n12            1     Ready   \n",
       "\n",
       "  StandardTest         System_setup  reaction_time  Biodegradation  \n",
       "0   Test 302 B         DOC Die Away           28.0            0.10  \n",
       "1   Test 301 C  Closed Respirometer           28.0            0.00  \n",
       "2   Test 301 B        CO2 Evolution            8.0            0.17  \n",
       "3   Test 301 C  Closed Respirometer           28.0            0.07  \n",
       "4   Test 301 F  Closed Respirometer           14.0            0.01  "
      ]
     },
     "execution_count": 7,
     "metadata": {},
     "output_type": "execute_result"
    }
   ],
   "source": [
    "# Reading the reg_data file\n",
    "reg_data_copy = pd.read_excel('reg_data_545_midterm (1).xlsx')\n",
    "reg_data_1 = reg_data_copy\n",
    "reg_data_copy.head()"
   ]
  },
  {
   "cell_type": "code",
   "execution_count": 8,
   "metadata": {
    "colab": {
     "base_uri": "https://localhost:8080/"
    },
    "id": "BgGKAtC0RxeC",
    "outputId": "c02cc367-9095-4794-a969-e58be263c63c"
   },
   "outputs": [
    {
     "data": {
      "text/plain": [
       "['MaxAbsEStateIndex',\n",
       " 'MaxEStateIndex',\n",
       " 'MinAbsEStateIndex',\n",
       " 'MinEStateIndex',\n",
       " 'qed',\n",
       " 'SPS',\n",
       " 'MolWt',\n",
       " 'HeavyAtomMolWt',\n",
       " 'ExactMolWt',\n",
       " 'NumValenceElectrons',\n",
       " 'NumRadicalElectrons',\n",
       " 'MaxPartialCharge',\n",
       " 'MinPartialCharge',\n",
       " 'MaxAbsPartialCharge',\n",
       " 'MinAbsPartialCharge',\n",
       " 'FpDensityMorgan1',\n",
       " 'FpDensityMorgan2',\n",
       " 'FpDensityMorgan3',\n",
       " 'BCUT2D_MWHI',\n",
       " 'BCUT2D_MWLOW',\n",
       " 'BCUT2D_CHGHI',\n",
       " 'BCUT2D_CHGLO',\n",
       " 'BCUT2D_LOGPHI',\n",
       " 'BCUT2D_LOGPLOW',\n",
       " 'BCUT2D_MRHI',\n",
       " 'BCUT2D_MRLOW',\n",
       " 'AvgIpc',\n",
       " 'BalabanJ',\n",
       " 'BertzCT',\n",
       " 'Chi0',\n",
       " 'Chi0n',\n",
       " 'Chi0v',\n",
       " 'Chi1',\n",
       " 'Chi1n',\n",
       " 'Chi1v',\n",
       " 'Chi2n',\n",
       " 'Chi2v',\n",
       " 'Chi3n',\n",
       " 'Chi3v',\n",
       " 'Chi4n',\n",
       " 'Chi4v',\n",
       " 'HallKierAlpha',\n",
       " 'Ipc',\n",
       " 'Kappa1',\n",
       " 'Kappa2',\n",
       " 'Kappa3',\n",
       " 'LabuteASA',\n",
       " 'PEOE_VSA1',\n",
       " 'PEOE_VSA10',\n",
       " 'PEOE_VSA11',\n",
       " 'PEOE_VSA12',\n",
       " 'PEOE_VSA13',\n",
       " 'PEOE_VSA14',\n",
       " 'PEOE_VSA2',\n",
       " 'PEOE_VSA3',\n",
       " 'PEOE_VSA4',\n",
       " 'PEOE_VSA5',\n",
       " 'PEOE_VSA6',\n",
       " 'PEOE_VSA7',\n",
       " 'PEOE_VSA8',\n",
       " 'PEOE_VSA9',\n",
       " 'SMR_VSA1',\n",
       " 'SMR_VSA10',\n",
       " 'SMR_VSA2',\n",
       " 'SMR_VSA3',\n",
       " 'SMR_VSA4',\n",
       " 'SMR_VSA5',\n",
       " 'SMR_VSA6',\n",
       " 'SMR_VSA7',\n",
       " 'SMR_VSA8',\n",
       " 'SMR_VSA9',\n",
       " 'SlogP_VSA1',\n",
       " 'SlogP_VSA10',\n",
       " 'SlogP_VSA11',\n",
       " 'SlogP_VSA12',\n",
       " 'SlogP_VSA2',\n",
       " 'SlogP_VSA3',\n",
       " 'SlogP_VSA4',\n",
       " 'SlogP_VSA5',\n",
       " 'SlogP_VSA6',\n",
       " 'SlogP_VSA7',\n",
       " 'SlogP_VSA8',\n",
       " 'SlogP_VSA9',\n",
       " 'TPSA',\n",
       " 'EState_VSA1',\n",
       " 'EState_VSA10',\n",
       " 'EState_VSA11',\n",
       " 'EState_VSA2',\n",
       " 'EState_VSA3',\n",
       " 'EState_VSA4',\n",
       " 'EState_VSA5',\n",
       " 'EState_VSA6',\n",
       " 'EState_VSA7',\n",
       " 'EState_VSA8',\n",
       " 'EState_VSA9',\n",
       " 'VSA_EState1',\n",
       " 'VSA_EState10',\n",
       " 'VSA_EState2',\n",
       " 'VSA_EState3',\n",
       " 'VSA_EState4',\n",
       " 'VSA_EState5',\n",
       " 'VSA_EState6',\n",
       " 'VSA_EState7',\n",
       " 'VSA_EState8',\n",
       " 'VSA_EState9',\n",
       " 'FractionCSP3',\n",
       " 'HeavyAtomCount',\n",
       " 'NHOHCount',\n",
       " 'NOCount',\n",
       " 'NumAliphaticCarbocycles',\n",
       " 'NumAliphaticHeterocycles',\n",
       " 'NumAliphaticRings',\n",
       " 'NumAromaticCarbocycles',\n",
       " 'NumAromaticHeterocycles',\n",
       " 'NumAromaticRings',\n",
       " 'NumHAcceptors',\n",
       " 'NumHDonors',\n",
       " 'NumHeteroatoms',\n",
       " 'NumRotatableBonds',\n",
       " 'NumSaturatedCarbocycles',\n",
       " 'NumSaturatedHeterocycles',\n",
       " 'NumSaturatedRings',\n",
       " 'RingCount',\n",
       " 'MolLogP',\n",
       " 'MolMR',\n",
       " 'fr_Al_COO',\n",
       " 'fr_Al_OH',\n",
       " 'fr_Al_OH_noTert',\n",
       " 'fr_ArN',\n",
       " 'fr_Ar_COO',\n",
       " 'fr_Ar_N',\n",
       " 'fr_Ar_NH',\n",
       " 'fr_Ar_OH',\n",
       " 'fr_COO',\n",
       " 'fr_COO2',\n",
       " 'fr_C_O',\n",
       " 'fr_C_O_noCOO',\n",
       " 'fr_C_S',\n",
       " 'fr_HOCCN',\n",
       " 'fr_Imine',\n",
       " 'fr_NH0',\n",
       " 'fr_NH1',\n",
       " 'fr_NH2',\n",
       " 'fr_N_O',\n",
       " 'fr_Ndealkylation1',\n",
       " 'fr_Ndealkylation2',\n",
       " 'fr_Nhpyrrole',\n",
       " 'fr_SH',\n",
       " 'fr_aldehyde',\n",
       " 'fr_alkyl_carbamate',\n",
       " 'fr_alkyl_halide',\n",
       " 'fr_allylic_oxid',\n",
       " 'fr_amide',\n",
       " 'fr_amidine',\n",
       " 'fr_aniline',\n",
       " 'fr_aryl_methyl',\n",
       " 'fr_azide',\n",
       " 'fr_azo',\n",
       " 'fr_barbitur',\n",
       " 'fr_benzene',\n",
       " 'fr_benzodiazepine',\n",
       " 'fr_bicyclic',\n",
       " 'fr_diazo',\n",
       " 'fr_dihydropyridine',\n",
       " 'fr_epoxide',\n",
       " 'fr_ester',\n",
       " 'fr_ether',\n",
       " 'fr_furan',\n",
       " 'fr_guanido',\n",
       " 'fr_halogen',\n",
       " 'fr_hdrzine',\n",
       " 'fr_hdrzone',\n",
       " 'fr_imidazole',\n",
       " 'fr_imide',\n",
       " 'fr_isocyan',\n",
       " 'fr_isothiocyan',\n",
       " 'fr_ketone',\n",
       " 'fr_ketone_Topliss',\n",
       " 'fr_lactam',\n",
       " 'fr_lactone',\n",
       " 'fr_methoxy',\n",
       " 'fr_morpholine',\n",
       " 'fr_nitrile',\n",
       " 'fr_nitro',\n",
       " 'fr_nitro_arom',\n",
       " 'fr_nitro_arom_nonortho',\n",
       " 'fr_nitroso',\n",
       " 'fr_oxazole',\n",
       " 'fr_oxime',\n",
       " 'fr_para_hydroxylation',\n",
       " 'fr_phenol',\n",
       " 'fr_phenol_noOrthoHbond',\n",
       " 'fr_phos_acid',\n",
       " 'fr_phos_ester',\n",
       " 'fr_piperdine',\n",
       " 'fr_piperzine',\n",
       " 'fr_priamide',\n",
       " 'fr_prisulfonamd',\n",
       " 'fr_pyridine',\n",
       " 'fr_quatN',\n",
       " 'fr_sulfide',\n",
       " 'fr_sulfonamd',\n",
       " 'fr_sulfone',\n",
       " 'fr_term_acetylene',\n",
       " 'fr_tetrazole',\n",
       " 'fr_thiazole',\n",
       " 'fr_thiocyan',\n",
       " 'fr_thiophene',\n",
       " 'fr_unbrch_alkane',\n",
       " 'fr_urea',\n",
       " 'SPS']"
      ]
     },
     "execution_count": 8,
     "metadata": {},
     "output_type": "execute_result"
    }
   ],
   "source": [
    "#Create the list of all molecular descriptor head\n",
    "list = Descriptors._descList\n",
    "\n",
    "columns = []\n",
    "for i,j in list:\n",
    "  columns.append(i)\n",
    "\n",
    "columns"
   ]
  },
  {
   "cell_type": "code",
   "execution_count": 9,
   "metadata": {
    "colab": {
     "base_uri": "https://localhost:8080/"
    },
    "id": "RRX8Mj1AIBB4",
    "outputId": "182f21a0-dfc9-4ec1-b593-76359aabbb8a"
   },
   "outputs": [
    {
     "name": "stderr",
     "output_type": "stream",
     "text": [
      "[15:06:23] WARNING: not removing hydrogen atom without neighbors\n",
      "[15:06:23] WARNING: not removing hydrogen atom without neighbors\n",
      "[15:06:23] WARNING: not removing hydrogen atom without neighbors\n",
      "[15:06:23] WARNING: not removing hydrogen atom without neighbors\n",
      "[15:06:23] WARNING: not removing hydrogen atom without neighbors\n",
      "[15:06:23] WARNING: not removing hydrogen atom without neighbors\n",
      "[15:06:27] WARNING: not removing hydrogen atom without neighbors\n",
      "[15:06:27] WARNING: not removing hydrogen atom without neighbors\n",
      "[15:06:27] WARNING: not removing hydrogen atom without neighbors\n",
      "[15:06:29] WARNING: not removing hydrogen atom without neighbors\n",
      "[15:06:29] WARNING: not removing hydrogen atom without neighbors\n",
      "[15:06:29] WARNING: not removing hydrogen atom without neighbors\n",
      "[15:06:36] WARNING: not removing hydrogen atom without neighbors\n",
      "[15:06:36] WARNING: not removing hydrogen atom without neighbors\n",
      "[15:06:36] WARNING: not removing hydrogen atom without neighbors\n",
      "[15:06:36] WARNING: not removing hydrogen atom without neighbors\n",
      "[15:06:36] WARNING: not removing hydrogen atom without neighbors\n",
      "[15:06:36] WARNING: not removing hydrogen atom without neighbors\n",
      "[15:06:40] WARNING: not removing hydrogen atom without neighbors\n",
      "[15:06:40] WARNING: not removing hydrogen atom without neighbors\n",
      "[15:06:40] WARNING: not removing hydrogen atom without neighbors\n",
      "[15:06:43] WARNING: not removing hydrogen atom without neighbors\n",
      "[15:06:43] WARNING: not removing hydrogen atom without neighbors\n",
      "[15:06:43] WARNING: not removing hydrogen atom without neighbors\n",
      "[15:06:46] WARNING: not removing hydrogen atom without neighbors\n",
      "[15:06:46] WARNING: not removing hydrogen atom without neighbors\n",
      "[15:06:46] WARNING: not removing hydrogen atom without neighbors\n",
      "[15:06:46] WARNING: not removing hydrogen atom without neighbors\n",
      "[15:06:46] WARNING: not removing hydrogen atom without neighbors\n",
      "[15:06:46] WARNING: not removing hydrogen atom without neighbors\n",
      "[15:06:47] WARNING: not removing hydrogen atom without neighbors\n",
      "[15:06:47] WARNING: not removing hydrogen atom without neighbors\n",
      "[15:06:47] WARNING: not removing hydrogen atom without neighbors\n",
      "[15:06:47] WARNING: not removing hydrogen atom without neighbors\n",
      "[15:06:47] WARNING: not removing hydrogen atom without neighbors\n",
      "[15:06:47] WARNING: not removing hydrogen atom without neighbors\n",
      "[15:06:47] WARNING: not removing hydrogen atom without neighbors\n",
      "[15:06:47] WARNING: not removing hydrogen atom without neighbors\n",
      "[15:06:47] WARNING: not removing hydrogen atom without neighbors\n",
      "[15:06:47] WARNING: not removing hydrogen atom without neighbors\n",
      "[15:06:54] WARNING: not removing hydrogen atom without neighbors\n",
      "[15:06:54] WARNING: not removing hydrogen atom without neighbors\n",
      "[15:06:54] WARNING: not removing hydrogen atom without neighbors\n",
      "[15:06:54] WARNING: not removing hydrogen atom without neighbors\n",
      "[15:06:54] WARNING: not removing hydrogen atom without neighbors\n",
      "[15:06:54] WARNING: not removing hydrogen atom without neighbors\n",
      "[15:07:00] WARNING: not removing hydrogen atom without neighbors\n",
      "[15:07:00] WARNING: not removing hydrogen atom without neighbors\n",
      "[15:07:00] WARNING: not removing hydrogen atom without neighbors\n",
      "[15:07:02] WARNING: not removing hydrogen atom without neighbors\n",
      "[15:07:02] WARNING: not removing hydrogen atom without neighbors\n",
      "[15:07:02] WARNING: not removing hydrogen atom without neighbors\n",
      "[15:07:03] WARNING: not removing hydrogen atom without neighbors\n",
      "[15:07:03] WARNING: not removing hydrogen atom without neighbors\n",
      "[15:07:03] WARNING: not removing hydrogen atom without neighbors\n",
      "[15:07:05] WARNING: not removing hydrogen atom without neighbors\n",
      "[15:07:05] WARNING: not removing hydrogen atom without neighbors\n",
      "[15:07:05] WARNING: not removing hydrogen atom without neighbors\n",
      "[15:07:05] WARNING: not removing hydrogen atom without neighbors\n",
      "[15:07:05] WARNING: not removing hydrogen atom without neighbors\n",
      "[15:07:05] WARNING: not removing hydrogen atom without neighbors\n",
      "[15:07:05] WARNING: not removing hydrogen atom without neighbors\n",
      "[15:07:05] WARNING: not removing hydrogen atom without neighbors\n",
      "[15:07:05] WARNING: not removing hydrogen atom without neighbors\n",
      "[15:07:05] WARNING: not removing hydrogen atom without neighbors\n",
      "[15:07:09] WARNING: not removing hydrogen atom without neighbors\n",
      "[15:07:09] WARNING: not removing hydrogen atom without neighbors\n",
      "[15:07:09] WARNING: not removing hydrogen atom without neighbors\n",
      "[15:07:12] WARNING: not removing hydrogen atom without neighbors\n",
      "[15:07:12] WARNING: not removing hydrogen atom without neighbors\n",
      "[15:07:12] WARNING: not removing hydrogen atom without neighbors\n",
      "[15:07:15] WARNING: not removing hydrogen atom without neighbors\n",
      "[15:07:15] WARNING: not removing hydrogen atom without neighbors\n",
      "[15:07:15] WARNING: not removing hydrogen atom without neighbors\n",
      "[15:07:16] WARNING: not removing hydrogen atom without neighbors\n",
      "[15:07:16] WARNING: not removing hydrogen atom without neighbors\n",
      "[15:07:16] WARNING: not removing hydrogen atom without neighbors\n",
      "[15:07:23] WARNING: not removing hydrogen atom without neighbors\n",
      "[15:07:23] WARNING: not removing hydrogen atom without neighbors\n",
      "[15:07:23] WARNING: not removing hydrogen atom without neighbors\n",
      "[15:07:23] WARNING: not removing hydrogen atom without neighbors\n",
      "[15:07:23] WARNING: not removing hydrogen atom without neighbors\n",
      "[15:07:23] WARNING: not removing hydrogen atom without neighbors\n",
      "[15:07:23] WARNING: not removing hydrogen atom without neighbors\n",
      "[15:07:23] WARNING: not removing hydrogen atom without neighbors\n",
      "[15:07:23] WARNING: not removing hydrogen atom without neighbors\n",
      "[15:07:47] WARNING: not removing hydrogen atom without neighbors\n",
      "[15:07:47] WARNING: not removing hydrogen atom without neighbors\n",
      "[15:07:47] WARNING: not removing hydrogen atom without neighbors\n",
      "[15:08:02] WARNING: not removing hydrogen atom without neighbors\n",
      "[15:08:02] WARNING: not removing hydrogen atom without neighbors\n",
      "[15:08:02] WARNING: not removing hydrogen atom without neighbors\n",
      "[15:08:02] WARNING: not removing hydrogen atom without neighbors\n",
      "[15:08:02] WARNING: not removing hydrogen atom without neighbors\n",
      "[15:08:02] WARNING: not removing hydrogen atom without neighbors\n",
      "[15:08:02] WARNING: not removing hydrogen atom without neighbors\n",
      "[15:08:02] WARNING: not removing hydrogen atom without neighbors\n",
      "[15:08:02] WARNING: not removing hydrogen atom without neighbors\n",
      "[15:08:02] WARNING: not removing hydrogen atom without neighbors\n",
      "[15:08:02] WARNING: not removing hydrogen atom without neighbors\n",
      "[15:08:02] WARNING: not removing hydrogen atom without neighbors\n",
      "[15:08:02] WARNING: not removing hydrogen atom without neighbors\n",
      "[15:08:02] WARNING: not removing hydrogen atom without neighbors\n",
      "[15:08:02] WARNING: not removing hydrogen atom without neighbors\n",
      "[15:08:02] WARNING: not removing hydrogen atom without neighbors\n",
      "[15:08:02] WARNING: not removing hydrogen atom without neighbors\n",
      "[15:08:02] WARNING: not removing hydrogen atom without neighbors\n",
      "[15:08:02] WARNING: not removing hydrogen atom without neighbors\n",
      "[15:08:02] WARNING: not removing hydrogen atom without neighbors\n",
      "[15:08:04] WARNING: not removing hydrogen atom without neighbors\n",
      "[15:08:04] WARNING: not removing hydrogen atom without neighbors\n",
      "[15:08:04] WARNING: not removing hydrogen atom without neighbors\n",
      "[15:08:11] WARNING: not removing hydrogen atom without neighbors\n",
      "[15:08:11] WARNING: not removing hydrogen atom without neighbors\n",
      "[15:08:11] WARNING: not removing hydrogen atom without neighbors\n",
      "[15:08:11] WARNING: not removing hydrogen atom without neighbors\n",
      "[15:08:11] WARNING: not removing hydrogen atom without neighbors\n",
      "[15:08:11] WARNING: not removing hydrogen atom without neighbors\n",
      "[15:08:12] WARNING: not removing hydrogen atom without neighbors\n",
      "[15:08:12] WARNING: not removing hydrogen atom without neighbors\n",
      "[15:08:12] WARNING: not removing hydrogen atom without neighbors\n",
      "[15:08:12] WARNING: not removing hydrogen atom without neighbors\n",
      "[15:08:12] WARNING: not removing hydrogen atom without neighbors\n",
      "[15:08:12] WARNING: not removing hydrogen atom without neighbors\n",
      "[15:08:14] WARNING: not removing hydrogen atom without neighbors\n",
      "[15:08:14] WARNING: not removing hydrogen atom without neighbors\n",
      "[15:08:14] WARNING: not removing hydrogen atom without neighbors\n",
      "[15:08:36] WARNING: not removing hydrogen atom without neighbors\n",
      "[15:08:36] WARNING: not removing hydrogen atom without neighbors\n",
      "[15:08:36] WARNING: not removing hydrogen atom without neighbors\n",
      "[15:08:38] WARNING: not removing hydrogen atom without neighbors\n",
      "[15:08:38] WARNING: not removing hydrogen atom without neighbors\n",
      "[15:08:38] WARNING: not removing hydrogen atom without neighbors\n",
      "[15:08:39] WARNING: not removing hydrogen atom without neighbors\n",
      "[15:08:39] WARNING: not removing hydrogen atom without neighbors\n",
      "[15:08:39] WARNING: not removing hydrogen atom without neighbors\n",
      "[15:08:39] WARNING: not removing hydrogen atom without neighbors\n",
      "[15:08:39] WARNING: not removing hydrogen atom without neighbors\n",
      "[15:08:39] WARNING: not removing hydrogen atom without neighbors\n",
      "[15:08:49] WARNING: not removing hydrogen atom without neighbors\n",
      "[15:08:49] WARNING: not removing hydrogen atom without neighbors\n",
      "[15:08:49] WARNING: not removing hydrogen atom without neighbors\n",
      "[15:08:52] WARNING: not removing hydrogen atom without neighbors\n",
      "[15:08:52] WARNING: not removing hydrogen atom without neighbors\n",
      "[15:08:52] WARNING: not removing hydrogen atom without neighbors\n",
      "[15:08:56] WARNING: not removing hydrogen atom without neighbors\n",
      "[15:08:56] WARNING: not removing hydrogen atom without neighbors\n",
      "[15:08:56] WARNING: not removing hydrogen atom without neighbors\n",
      "[15:08:59] WARNING: not removing hydrogen atom without neighbors\n",
      "[15:08:59] WARNING: not removing hydrogen atom without neighbors\n",
      "[15:08:59] WARNING: not removing hydrogen atom without neighbors\n",
      "[15:08:59] WARNING: not removing hydrogen atom without neighbors\n",
      "[15:08:59] WARNING: not removing hydrogen atom without neighbors\n",
      "[15:08:59] WARNING: not removing hydrogen atom without neighbors\n",
      "[15:09:08] WARNING: not removing hydrogen atom without neighbors\n",
      "[15:09:08] WARNING: not removing hydrogen atom without neighbors\n",
      "[15:09:08] WARNING: not removing hydrogen atom without neighbors\n",
      "[15:09:15] WARNING: not removing hydrogen atom without neighbors\n",
      "[15:09:15] WARNING: not removing hydrogen atom without neighbors\n",
      "[15:09:15] WARNING: not removing hydrogen atom without neighbors\n",
      "[15:09:15] WARNING: not removing hydrogen atom without neighbors\n",
      "[15:09:15] WARNING: not removing hydrogen atom without neighbors\n",
      "[15:09:15] WARNING: not removing hydrogen atom without neighbors\n",
      "[15:09:15] WARNING: not removing hydrogen atom without neighbors\n",
      "[15:09:15] WARNING: not removing hydrogen atom without neighbors\n",
      "[15:09:15] WARNING: not removing hydrogen atom without neighbors\n",
      "[15:09:15] WARNING: not removing hydrogen atom without neighbors\n",
      "[15:09:15] WARNING: not removing hydrogen atom without neighbors\n",
      "[15:09:15] WARNING: not removing hydrogen atom without neighbors\n",
      "[15:09:15] WARNING: not removing hydrogen atom without neighbors\n",
      "[15:09:25] WARNING: not removing hydrogen atom without neighbors\n",
      "[15:09:25] WARNING: not removing hydrogen atom without neighbors\n",
      "[15:09:25] WARNING: not removing hydrogen atom without neighbors\n",
      "[15:09:46] WARNING: not removing hydrogen atom without neighbors\n",
      "[15:09:46] WARNING: not removing hydrogen atom without neighbors\n",
      "[15:09:46] WARNING: not removing hydrogen atom without neighbors\n",
      "[15:10:01] WARNING: not removing hydrogen atom without neighbors\n",
      "[15:10:01] WARNING: not removing hydrogen atom without neighbors\n",
      "[15:10:01] WARNING: not removing hydrogen atom without neighbors\n",
      "[15:10:04] WARNING: not removing hydrogen atom without neighbors\n",
      "[15:10:04] WARNING: not removing hydrogen atom without neighbors\n",
      "[15:10:04] WARNING: not removing hydrogen atom without neighbors\n",
      "[15:10:05] WARNING: not removing hydrogen atom without neighbors\n",
      "[15:10:05] WARNING: not removing hydrogen atom without neighbors\n",
      "[15:10:05] WARNING: not removing hydrogen atom without neighbors\n",
      "[15:10:05] WARNING: not removing hydrogen atom without neighbors\n",
      "[15:10:05] WARNING: not removing hydrogen atom without neighbors\n",
      "[15:10:05] WARNING: not removing hydrogen atom without neighbors\n",
      "[15:10:11] WARNING: not removing hydrogen atom without neighbors\n",
      "[15:10:11] WARNING: not removing hydrogen atom without neighbors\n",
      "[15:10:11] WARNING: not removing hydrogen atom without neighbors\n",
      "[15:10:17] WARNING: not removing hydrogen atom without neighbors\n",
      "[15:10:17] WARNING: not removing hydrogen atom without neighbors\n",
      "[15:10:17] WARNING: not removing hydrogen atom without neighbors\n",
      "[15:10:18] WARNING: not removing hydrogen atom without neighbors\n",
      "[15:10:18] WARNING: not removing hydrogen atom without neighbors\n",
      "[15:10:18] WARNING: not removing hydrogen atom without neighbors\n",
      "[15:10:27] WARNING: not removing hydrogen atom without neighbors\n",
      "[15:10:27] WARNING: not removing hydrogen atom without neighbors\n",
      "[15:10:27] WARNING: not removing hydrogen atom without neighbors\n",
      "[15:10:38] WARNING: not removing hydrogen atom without neighbors\n",
      "[15:10:38] WARNING: not removing hydrogen atom without neighbors\n",
      "[15:10:38] WARNING: not removing hydrogen atom without neighbors\n",
      "[15:10:43] WARNING: not removing hydrogen atom without neighbors\n",
      "[15:10:43] WARNING: not removing hydrogen atom without neighbors\n",
      "[15:10:43] WARNING: not removing hydrogen atom without neighbors\n",
      "[15:10:54] WARNING: not removing hydrogen atom without neighbors\n",
      "[15:10:54] WARNING: not removing hydrogen atom without neighbors\n",
      "[15:10:54] WARNING: not removing hydrogen atom without neighbors\n",
      "[15:10:54] WARNING: not removing hydrogen atom without neighbors\n",
      "[15:10:54] WARNING: not removing hydrogen atom without neighbors\n",
      "[15:10:54] WARNING: not removing hydrogen atom without neighbors\n",
      "[15:11:03] WARNING: not removing hydrogen atom without neighbors\n",
      "[15:11:03] WARNING: not removing hydrogen atom without neighbors\n",
      "[15:11:03] WARNING: not removing hydrogen atom without neighbors\n",
      "[15:11:03] WARNING: not removing hydrogen atom without neighbors\n",
      "[15:11:03] WARNING: not removing hydrogen atom without neighbors\n",
      "[15:11:03] WARNING: not removing hydrogen atom without neighbors\n",
      "[15:11:04] WARNING: not removing hydrogen atom without neighbors\n",
      "[15:11:04] WARNING: not removing hydrogen atom without neighbors\n",
      "[15:11:04] WARNING: not removing hydrogen atom without neighbors\n",
      "[15:11:04] WARNING: not removing hydrogen atom without neighbors\n",
      "[15:11:04] WARNING: not removing hydrogen atom without neighbors\n",
      "[15:11:04] WARNING: not removing hydrogen atom without neighbors\n",
      "[15:11:06] WARNING: not removing hydrogen atom without neighbors\n",
      "[15:11:06] WARNING: not removing hydrogen atom without neighbors\n",
      "[15:11:06] WARNING: not removing hydrogen atom without neighbors\n",
      "[15:11:06] WARNING: not removing hydrogen atom without neighbors\n",
      "[15:11:06] WARNING: not removing hydrogen atom without neighbors\n",
      "[15:11:06] WARNING: not removing hydrogen atom without neighbors\n",
      "[15:11:06] WARNING: not removing hydrogen atom without neighbors\n",
      "[15:11:06] WARNING: not removing hydrogen atom without neighbors\n",
      "[15:11:06] WARNING: not removing hydrogen atom without neighbors\n",
      "[15:11:06] WARNING: not removing hydrogen atom without neighbors\n",
      "[15:11:16] WARNING: not removing hydrogen atom without neighbors\n",
      "[15:11:16] WARNING: not removing hydrogen atom without neighbors\n",
      "[15:11:16] WARNING: not removing hydrogen atom without neighbors\n",
      "[15:11:25] WARNING: not removing hydrogen atom without neighbors\n",
      "[15:11:25] WARNING: not removing hydrogen atom without neighbors\n",
      "[15:11:25] WARNING: not removing hydrogen atom without neighbors\n",
      "[15:11:30] WARNING: not removing hydrogen atom without neighbors\n",
      "[15:11:30] WARNING: not removing hydrogen atom without neighbors\n",
      "[15:11:30] WARNING: not removing hydrogen atom without neighbors\n",
      "[15:11:41] WARNING: not removing hydrogen atom without neighbors\n",
      "[15:11:41] WARNING: not removing hydrogen atom without neighbors\n",
      "[15:11:41] WARNING: not removing hydrogen atom without neighbors\n",
      "[15:11:41] WARNING: not removing hydrogen atom without neighbors\n",
      "[15:11:41] WARNING: not removing hydrogen atom without neighbors\n",
      "[15:11:41] WARNING: not removing hydrogen atom without neighbors\n",
      "[15:11:44] WARNING: not removing hydrogen atom without neighbors\n",
      "[15:11:44] WARNING: not removing hydrogen atom without neighbors\n",
      "[15:11:44] WARNING: not removing hydrogen atom without neighbors\n",
      "[15:11:53] WARNING: not removing hydrogen atom without neighbors\n",
      "[15:11:53] WARNING: not removing hydrogen atom without neighbors\n",
      "[15:11:53] WARNING: not removing hydrogen atom without neighbors\n",
      "[15:11:56] WARNING: not removing hydrogen atom without neighbors\n",
      "[15:11:56] WARNING: not removing hydrogen atom without neighbors\n",
      "[15:11:56] WARNING: not removing hydrogen atom without neighbors\n",
      "[15:11:56] WARNING: not removing hydrogen atom without neighbors\n",
      "[15:11:56] WARNING: not removing hydrogen atom without neighbors\n",
      "[15:11:56] WARNING: not removing hydrogen atom without neighbors\n",
      "[15:11:59] WARNING: not removing hydrogen atom without neighbors\n",
      "[15:11:59] WARNING: not removing hydrogen atom without neighbors\n",
      "[15:11:59] WARNING: not removing hydrogen atom without neighbors\n",
      "[15:11:59] WARNING: not removing hydrogen atom without neighbors\n",
      "[15:11:59] WARNING: not removing hydrogen atom without neighbors\n",
      "[15:11:59] WARNING: not removing hydrogen atom without neighbors\n",
      "[15:11:59] WARNING: not removing hydrogen atom without neighbors\n",
      "[15:11:59] WARNING: not removing hydrogen atom without neighbors\n",
      "[15:11:59] WARNING: not removing hydrogen atom without neighbors\n",
      "[15:11:59] WARNING: not removing hydrogen atom without neighbors\n",
      "[15:11:59] WARNING: not removing hydrogen atom without neighbors\n",
      "[15:11:59] WARNING: not removing hydrogen atom without neighbors\n",
      "[15:11:59] WARNING: not removing hydrogen atom without neighbors\n",
      "[15:11:59] WARNING: not removing hydrogen atom without neighbors\n",
      "[15:11:59] WARNING: not removing hydrogen atom without neighbors\n",
      "[15:11:59] WARNING: not removing hydrogen atom without neighbors\n",
      "[15:11:59] WARNING: not removing hydrogen atom without neighbors\n",
      "[15:11:59] WARNING: not removing hydrogen atom without neighbors\n",
      "[15:11:59] WARNING: not removing hydrogen atom without neighbors\n",
      "[15:11:59] WARNING: not removing hydrogen atom without neighbors\n",
      "[15:11:59] WARNING: not removing hydrogen atom without neighbors\n",
      "[15:11:59] WARNING: not removing hydrogen atom without neighbors\n",
      "[15:11:59] WARNING: not removing hydrogen atom without neighbors\n",
      "[15:11:59] WARNING: not removing hydrogen atom without neighbors\n",
      "[15:11:59] WARNING: not removing hydrogen atom without neighbors\n",
      "[15:11:59] WARNING: not removing hydrogen atom without neighbors\n",
      "[15:11:59] WARNING: not removing hydrogen atom without neighbors\n",
      "[15:11:59] WARNING: not removing hydrogen atom without neighbors\n",
      "[15:11:59] WARNING: not removing hydrogen atom without neighbors\n",
      "[15:11:59] WARNING: not removing hydrogen atom without neighbors\n",
      "[15:11:59] WARNING: not removing hydrogen atom without neighbors\n",
      "[15:11:59] WARNING: not removing hydrogen atom without neighbors\n",
      "[15:11:59] WARNING: not removing hydrogen atom without neighbors\n",
      "[15:11:59] WARNING: not removing hydrogen atom without neighbors\n",
      "[15:11:59] WARNING: not removing hydrogen atom without neighbors\n",
      "[15:11:59] WARNING: not removing hydrogen atom without neighbors\n",
      "[15:12:06] WARNING: not removing hydrogen atom without neighbors\n",
      "[15:12:06] WARNING: not removing hydrogen atom without neighbors\n",
      "[15:12:06] WARNING: not removing hydrogen atom without neighbors\n",
      "[15:12:07] WARNING: not removing hydrogen atom without neighbors\n",
      "[15:12:07] WARNING: not removing hydrogen atom without neighbors\n",
      "[15:12:07] WARNING: not removing hydrogen atom without neighbors\n",
      "[15:12:17] WARNING: not removing hydrogen atom without neighbors\n",
      "[15:12:17] WARNING: not removing hydrogen atom without neighbors\n",
      "[15:12:17] WARNING: not removing hydrogen atom without neighbors\n",
      "[15:12:21] WARNING: not removing hydrogen atom without neighbors\n",
      "[15:12:21] WARNING: not removing hydrogen atom without neighbors\n",
      "[15:12:21] WARNING: not removing hydrogen atom without neighbors\n",
      "[15:12:26] WARNING: not removing hydrogen atom without neighbors\n",
      "[15:12:26] WARNING: not removing hydrogen atom without neighbors\n",
      "[15:12:26] WARNING: not removing hydrogen atom without neighbors\n",
      "[15:12:31] WARNING: not removing hydrogen atom without neighbors\n",
      "[15:12:31] WARNING: not removing hydrogen atom without neighbors\n",
      "[15:12:31] WARNING: not removing hydrogen atom without neighbors\n"
     ]
    },
    {
     "data": {
      "text/plain": [
       "(10000, 211)"
      ]
     },
     "execution_count": 9,
     "metadata": {},
     "output_type": "execute_result"
    }
   ],
   "source": [
    "#Read the molecular descriptor from Rdkit for each molecule and add to a dataframe\n",
    "def calculate_descriptors(smiles):\n",
    "    molecule = Chem.MolFromSmiles(smiles)\n",
    "    descriptors = Descriptors.CalcMolDescriptors(molecule)\n",
    "    return descriptors\n",
    "\n",
    "\n",
    "\n",
    "reg_data_1=pd.DataFrame(columns=columns)\n",
    "\n",
    "for i in range(0,len(reg_data_copy)):\n",
    "    descriptors = calculate_descriptors(reg_data_copy['Smiles'][i])\n",
    "    reg_data_1.loc[len(reg_data_1)] = descriptors\n",
    "\n",
    "reg_data_1.shape"
   ]
  },
  {
   "cell_type": "code",
   "execution_count": 11,
   "metadata": {
    "id": "FTN_fDq5Qt7B"
   },
   "outputs": [
    {
     "data": {
      "text/html": [
       "<div>\n",
       "<style scoped>\n",
       "    .dataframe tbody tr th:only-of-type {\n",
       "        vertical-align: middle;\n",
       "    }\n",
       "\n",
       "    .dataframe tbody tr th {\n",
       "        vertical-align: top;\n",
       "    }\n",
       "\n",
       "    .dataframe thead th {\n",
       "        text-align: right;\n",
       "    }\n",
       "</style>\n",
       "<table border=\"1\" class=\"dataframe\">\n",
       "  <thead>\n",
       "    <tr style=\"text-align: right;\">\n",
       "      <th></th>\n",
       "      <th>MaxAbsEStateIndex</th>\n",
       "      <th>MaxEStateIndex</th>\n",
       "      <th>MinAbsEStateIndex</th>\n",
       "      <th>MinEStateIndex</th>\n",
       "      <th>qed</th>\n",
       "      <th>SPS</th>\n",
       "      <th>MolWt</th>\n",
       "      <th>HeavyAtomMolWt</th>\n",
       "      <th>ExactMolWt</th>\n",
       "      <th>NumValenceElectrons</th>\n",
       "      <th>...</th>\n",
       "      <th>fr_sulfonamd</th>\n",
       "      <th>fr_sulfone</th>\n",
       "      <th>fr_term_acetylene</th>\n",
       "      <th>fr_tetrazole</th>\n",
       "      <th>fr_thiazole</th>\n",
       "      <th>fr_thiocyan</th>\n",
       "      <th>fr_thiophene</th>\n",
       "      <th>fr_unbrch_alkane</th>\n",
       "      <th>fr_urea</th>\n",
       "      <th>SPS</th>\n",
       "    </tr>\n",
       "  </thead>\n",
       "  <tbody>\n",
       "    <tr>\n",
       "      <th>0</th>\n",
       "      <td>6.320833</td>\n",
       "      <td>6.320833</td>\n",
       "      <td>0.000000</td>\n",
       "      <td>0.000000</td>\n",
       "      <td>0.519261</td>\n",
       "      <td>55.250000</td>\n",
       "      <td>187.714</td>\n",
       "      <td>169.570</td>\n",
       "      <td>187.112777</td>\n",
       "      <td>70</td>\n",
       "      <td>...</td>\n",
       "      <td>0</td>\n",
       "      <td>0</td>\n",
       "      <td>0</td>\n",
       "      <td>0</td>\n",
       "      <td>0</td>\n",
       "      <td>0</td>\n",
       "      <td>0</td>\n",
       "      <td>0</td>\n",
       "      <td>0</td>\n",
       "      <td>55.250000</td>\n",
       "    </tr>\n",
       "    <tr>\n",
       "      <th>1</th>\n",
       "      <td>6.491327</td>\n",
       "      <td>6.491327</td>\n",
       "      <td>1.027346</td>\n",
       "      <td>-2.511080</td>\n",
       "      <td>0.569960</td>\n",
       "      <td>11.333333</td>\n",
       "      <td>253.204</td>\n",
       "      <td>243.124</td>\n",
       "      <td>251.992882</td>\n",
       "      <td>76</td>\n",
       "      <td>...</td>\n",
       "      <td>0</td>\n",
       "      <td>0</td>\n",
       "      <td>0</td>\n",
       "      <td>0</td>\n",
       "      <td>0</td>\n",
       "      <td>0</td>\n",
       "      <td>0</td>\n",
       "      <td>0</td>\n",
       "      <td>0</td>\n",
       "      <td>11.333333</td>\n",
       "    </tr>\n",
       "    <tr>\n",
       "      <th>2</th>\n",
       "      <td>11.378134</td>\n",
       "      <td>11.378134</td>\n",
       "      <td>0.716093</td>\n",
       "      <td>-1.077315</td>\n",
       "      <td>0.349414</td>\n",
       "      <td>11.058824</td>\n",
       "      <td>317.710</td>\n",
       "      <td>309.646</td>\n",
       "      <td>315.931862</td>\n",
       "      <td>84</td>\n",
       "      <td>...</td>\n",
       "      <td>0</td>\n",
       "      <td>0</td>\n",
       "      <td>0</td>\n",
       "      <td>0</td>\n",
       "      <td>0</td>\n",
       "      <td>0</td>\n",
       "      <td>0</td>\n",
       "      <td>0</td>\n",
       "      <td>0</td>\n",
       "      <td>11.058824</td>\n",
       "    </tr>\n",
       "    <tr>\n",
       "      <th>3</th>\n",
       "      <td>10.101122</td>\n",
       "      <td>10.101122</td>\n",
       "      <td>0.363519</td>\n",
       "      <td>0.363519</td>\n",
       "      <td>0.553535</td>\n",
       "      <td>14.800000</td>\n",
       "      <td>142.242</td>\n",
       "      <td>124.098</td>\n",
       "      <td>142.135765</td>\n",
       "      <td>60</td>\n",
       "      <td>...</td>\n",
       "      <td>0</td>\n",
       "      <td>0</td>\n",
       "      <td>0</td>\n",
       "      <td>0</td>\n",
       "      <td>0</td>\n",
       "      <td>0</td>\n",
       "      <td>0</td>\n",
       "      <td>0</td>\n",
       "      <td>0</td>\n",
       "      <td>14.800000</td>\n",
       "    </tr>\n",
       "    <tr>\n",
       "      <th>4</th>\n",
       "      <td>13.332122</td>\n",
       "      <td>13.332122</td>\n",
       "      <td>0.009210</td>\n",
       "      <td>-0.009210</td>\n",
       "      <td>0.299012</td>\n",
       "      <td>12.160000</td>\n",
       "      <td>320.351</td>\n",
       "      <td>308.255</td>\n",
       "      <td>320.094963</td>\n",
       "      <td>116</td>\n",
       "      <td>...</td>\n",
       "      <td>0</td>\n",
       "      <td>0</td>\n",
       "      <td>0</td>\n",
       "      <td>0</td>\n",
       "      <td>0</td>\n",
       "      <td>0</td>\n",
       "      <td>0</td>\n",
       "      <td>0</td>\n",
       "      <td>0</td>\n",
       "      <td>12.160000</td>\n",
       "    </tr>\n",
       "  </tbody>\n",
       "</table>\n",
       "<p>5 rows × 211 columns</p>\n",
       "</div>"
      ],
      "text/plain": [
       "   MaxAbsEStateIndex  MaxEStateIndex  MinAbsEStateIndex  MinEStateIndex  \\\n",
       "0           6.320833        6.320833           0.000000        0.000000   \n",
       "1           6.491327        6.491327           1.027346       -2.511080   \n",
       "2          11.378134       11.378134           0.716093       -1.077315   \n",
       "3          10.101122       10.101122           0.363519        0.363519   \n",
       "4          13.332122       13.332122           0.009210       -0.009210   \n",
       "\n",
       "        qed        SPS    MolWt  HeavyAtomMolWt  ExactMolWt  \\\n",
       "0  0.519261  55.250000  187.714         169.570  187.112777   \n",
       "1  0.569960  11.333333  253.204         243.124  251.992882   \n",
       "2  0.349414  11.058824  317.710         309.646  315.931862   \n",
       "3  0.553535  14.800000  142.242         124.098  142.135765   \n",
       "4  0.299012  12.160000  320.351         308.255  320.094963   \n",
       "\n",
       "   NumValenceElectrons  ...  fr_sulfonamd  fr_sulfone  fr_term_acetylene  \\\n",
       "0                   70  ...             0           0                  0   \n",
       "1                   76  ...             0           0                  0   \n",
       "2                   84  ...             0           0                  0   \n",
       "3                   60  ...             0           0                  0   \n",
       "4                  116  ...             0           0                  0   \n",
       "\n",
       "   fr_tetrazole  fr_thiazole  fr_thiocyan  fr_thiophene  fr_unbrch_alkane  \\\n",
       "0             0            0            0             0                 0   \n",
       "1             0            0            0             0                 0   \n",
       "2             0            0            0             0                 0   \n",
       "3             0            0            0             0                 0   \n",
       "4             0            0            0             0                 0   \n",
       "\n",
       "   fr_urea        SPS  \n",
       "0        0  55.250000  \n",
       "1        0  11.333333  \n",
       "2        0  11.058824  \n",
       "3        0  14.800000  \n",
       "4        0  12.160000  \n",
       "\n",
       "[5 rows x 211 columns]"
      ]
     },
     "execution_count": 11,
     "metadata": {},
     "output_type": "execute_result"
    }
   ],
   "source": [
    "#Convert Molecular descriptor to file\n",
    "reg_data_1.to_csv(\"descriptors.csv\")\n",
    "reg_data_1.head()\n"
   ]
  },
  {
   "cell_type": "code",
   "execution_count": 12,
   "metadata": {},
   "outputs": [
    {
     "data": {
      "text/plain": [
       "(10000, 211)"
      ]
     },
     "execution_count": 12,
     "metadata": {},
     "output_type": "execute_result"
    }
   ],
   "source": [
    "reg_data_1.shape"
   ]
  },
  {
   "cell_type": "code",
   "execution_count": 13,
   "metadata": {
    "id": "4XkOQOkKc_NH"
   },
   "outputs": [],
   "source": [
    "#Joining reg_data and molecular descriptor to one file\n",
    "reg_data = reg_data_copy.join(reg_data_1)"
   ]
  },
  {
   "cell_type": "code",
   "execution_count": 14,
   "metadata": {
    "id": "bQe8VJcmybsy"
   },
   "outputs": [
    {
     "data": {
      "text/html": [
       "<div>\n",
       "<style scoped>\n",
       "    .dataframe tbody tr th:only-of-type {\n",
       "        vertical-align: middle;\n",
       "    }\n",
       "\n",
       "    .dataframe tbody tr th {\n",
       "        vertical-align: top;\n",
       "    }\n",
       "\n",
       "    .dataframe thead th {\n",
       "        text-align: right;\n",
       "    }\n",
       "</style>\n",
       "<table border=\"1\" class=\"dataframe\">\n",
       "  <thead>\n",
       "    <tr style=\"text-align: right;\">\n",
       "      <th></th>\n",
       "      <th>Smiles</th>\n",
       "      <th>Reliability</th>\n",
       "      <th>Type</th>\n",
       "      <th>StandardTest</th>\n",
       "      <th>System_setup</th>\n",
       "      <th>reaction_time</th>\n",
       "      <th>Biodegradation</th>\n",
       "      <th>MaxAbsEStateIndex</th>\n",
       "      <th>MaxEStateIndex</th>\n",
       "      <th>MinAbsEStateIndex</th>\n",
       "      <th>...</th>\n",
       "      <th>fr_sulfonamd</th>\n",
       "      <th>fr_sulfone</th>\n",
       "      <th>fr_term_acetylene</th>\n",
       "      <th>fr_tetrazole</th>\n",
       "      <th>fr_thiazole</th>\n",
       "      <th>fr_thiocyan</th>\n",
       "      <th>fr_thiophene</th>\n",
       "      <th>fr_unbrch_alkane</th>\n",
       "      <th>fr_urea</th>\n",
       "      <th>SPS</th>\n",
       "    </tr>\n",
       "  </thead>\n",
       "  <tbody>\n",
       "    <tr>\n",
       "      <th>0</th>\n",
       "      <td>NC12CC3CC(CC(C3)C1)C2.[Cl-].[H+]</td>\n",
       "      <td>2</td>\n",
       "      <td>Inherent</td>\n",
       "      <td>Test 302 B</td>\n",
       "      <td>DOC Die Away</td>\n",
       "      <td>28.0</td>\n",
       "      <td>0.10</td>\n",
       "      <td>6.320833</td>\n",
       "      <td>6.320833</td>\n",
       "      <td>0.000000</td>\n",
       "      <td>...</td>\n",
       "      <td>0</td>\n",
       "      <td>0</td>\n",
       "      <td>0</td>\n",
       "      <td>0</td>\n",
       "      <td>0</td>\n",
       "      <td>0</td>\n",
       "      <td>0</td>\n",
       "      <td>0</td>\n",
       "      <td>0</td>\n",
       "      <td>55.250000</td>\n",
       "    </tr>\n",
       "    <tr>\n",
       "      <th>1</th>\n",
       "      <td>Cl[Si](Cl)(c1ccccc1)c1ccccc1</td>\n",
       "      <td>1</td>\n",
       "      <td>Ready</td>\n",
       "      <td>Test 301 C</td>\n",
       "      <td>Closed Respirometer</td>\n",
       "      <td>28.0</td>\n",
       "      <td>0.00</td>\n",
       "      <td>6.491327</td>\n",
       "      <td>6.491327</td>\n",
       "      <td>1.027346</td>\n",
       "      <td>...</td>\n",
       "      <td>0</td>\n",
       "      <td>0</td>\n",
       "      <td>0</td>\n",
       "      <td>0</td>\n",
       "      <td>0</td>\n",
       "      <td>0</td>\n",
       "      <td>0</td>\n",
       "      <td>0</td>\n",
       "      <td>0</td>\n",
       "      <td>11.333333</td>\n",
       "    </tr>\n",
       "    <tr>\n",
       "      <th>2</th>\n",
       "      <td>[O-][n+]1ccccc1[S-][Zn+2][S-]c1cccc[n+]1[O-]</td>\n",
       "      <td>1</td>\n",
       "      <td>Ready</td>\n",
       "      <td>Test 301 B</td>\n",
       "      <td>CO2 Evolution</td>\n",
       "      <td>8.0</td>\n",
       "      <td>0.17</td>\n",
       "      <td>11.378134</td>\n",
       "      <td>11.378134</td>\n",
       "      <td>0.716093</td>\n",
       "      <td>...</td>\n",
       "      <td>0</td>\n",
       "      <td>0</td>\n",
       "      <td>0</td>\n",
       "      <td>0</td>\n",
       "      <td>0</td>\n",
       "      <td>0</td>\n",
       "      <td>0</td>\n",
       "      <td>0</td>\n",
       "      <td>0</td>\n",
       "      <td>11.058824</td>\n",
       "    </tr>\n",
       "    <tr>\n",
       "      <th>3</th>\n",
       "      <td>CC(CC=O)CC(C)(C)C</td>\n",
       "      <td>1</td>\n",
       "      <td>Ready</td>\n",
       "      <td>Test 301 C</td>\n",
       "      <td>Closed Respirometer</td>\n",
       "      <td>28.0</td>\n",
       "      <td>0.07</td>\n",
       "      <td>10.101122</td>\n",
       "      <td>10.101122</td>\n",
       "      <td>0.363519</td>\n",
       "      <td>...</td>\n",
       "      <td>0</td>\n",
       "      <td>0</td>\n",
       "      <td>0</td>\n",
       "      <td>0</td>\n",
       "      <td>0</td>\n",
       "      <td>0</td>\n",
       "      <td>0</td>\n",
       "      <td>0</td>\n",
       "      <td>0</td>\n",
       "      <td>14.800000</td>\n",
       "    </tr>\n",
       "    <tr>\n",
       "      <th>4</th>\n",
       "      <td>O=c1c2cccc3cccc(c32)c2nc3cccc4cccc(c43)n12</td>\n",
       "      <td>1</td>\n",
       "      <td>Ready</td>\n",
       "      <td>Test 301 F</td>\n",
       "      <td>Closed Respirometer</td>\n",
       "      <td>14.0</td>\n",
       "      <td>0.01</td>\n",
       "      <td>13.332122</td>\n",
       "      <td>13.332122</td>\n",
       "      <td>0.009210</td>\n",
       "      <td>...</td>\n",
       "      <td>0</td>\n",
       "      <td>0</td>\n",
       "      <td>0</td>\n",
       "      <td>0</td>\n",
       "      <td>0</td>\n",
       "      <td>0</td>\n",
       "      <td>0</td>\n",
       "      <td>0</td>\n",
       "      <td>0</td>\n",
       "      <td>12.160000</td>\n",
       "    </tr>\n",
       "  </tbody>\n",
       "</table>\n",
       "<p>5 rows × 218 columns</p>\n",
       "</div>"
      ],
      "text/plain": [
       "                                         Smiles  Reliability      Type  \\\n",
       "0              NC12CC3CC(CC(C3)C1)C2.[Cl-].[H+]            2  Inherent   \n",
       "1                  Cl[Si](Cl)(c1ccccc1)c1ccccc1            1     Ready   \n",
       "2  [O-][n+]1ccccc1[S-][Zn+2][S-]c1cccc[n+]1[O-]            1     Ready   \n",
       "3                             CC(CC=O)CC(C)(C)C            1     Ready   \n",
       "4    O=c1c2cccc3cccc(c32)c2nc3cccc4cccc(c43)n12            1     Ready   \n",
       "\n",
       "  StandardTest         System_setup  reaction_time  Biodegradation  \\\n",
       "0   Test 302 B         DOC Die Away           28.0            0.10   \n",
       "1   Test 301 C  Closed Respirometer           28.0            0.00   \n",
       "2   Test 301 B        CO2 Evolution            8.0            0.17   \n",
       "3   Test 301 C  Closed Respirometer           28.0            0.07   \n",
       "4   Test 301 F  Closed Respirometer           14.0            0.01   \n",
       "\n",
       "   MaxAbsEStateIndex  MaxEStateIndex  MinAbsEStateIndex  ...  fr_sulfonamd  \\\n",
       "0           6.320833        6.320833           0.000000  ...             0   \n",
       "1           6.491327        6.491327           1.027346  ...             0   \n",
       "2          11.378134       11.378134           0.716093  ...             0   \n",
       "3          10.101122       10.101122           0.363519  ...             0   \n",
       "4          13.332122       13.332122           0.009210  ...             0   \n",
       "\n",
       "   fr_sulfone  fr_term_acetylene  fr_tetrazole  fr_thiazole  fr_thiocyan  \\\n",
       "0           0                  0             0            0            0   \n",
       "1           0                  0             0            0            0   \n",
       "2           0                  0             0            0            0   \n",
       "3           0                  0             0            0            0   \n",
       "4           0                  0             0            0            0   \n",
       "\n",
       "   fr_thiophene  fr_unbrch_alkane  fr_urea        SPS  \n",
       "0             0                 0        0  55.250000  \n",
       "1             0                 0        0  11.333333  \n",
       "2             0                 0        0  11.058824  \n",
       "3             0                 0        0  14.800000  \n",
       "4             0                 0        0  12.160000  \n",
       "\n",
       "[5 rows x 218 columns]"
      ]
     },
     "execution_count": 14,
     "metadata": {},
     "output_type": "execute_result"
    }
   ],
   "source": [
    "#Read combined dataframe\n",
    "reg_data.head()"
   ]
  },
  {
   "cell_type": "code",
   "execution_count": 15,
   "metadata": {
    "id": "-3WyGb58iKbD"
   },
   "outputs": [
    {
     "data": {
      "text/plain": [
       "(10000, 218)"
      ]
     },
     "execution_count": 15,
     "metadata": {},
     "output_type": "execute_result"
    }
   ],
   "source": [
    "reg_data.shape"
   ]
  },
  {
   "cell_type": "markdown",
   "metadata": {},
   "source": [
    "# 2.DATA CLEANING"
   ]
  },
  {
   "cell_type": "code",
   "execution_count": 17,
   "metadata": {
    "id": "S1_-IsVGIA1m"
   },
   "outputs": [
    {
     "data": {
      "text/plain": [
       "(8832, 218)"
      ]
     },
     "execution_count": 17,
     "metadata": {},
     "output_type": "execute_result"
    }
   ],
   "source": [
    "#Drop nan values\n",
    "reg_data_cleaned=reg_data.dropna(inplace=False)\n",
    "\n",
    "reg_data_cleaned.shape"
   ]
  },
  {
   "cell_type": "code",
   "execution_count": 18,
   "metadata": {
    "id": "ZMbfqY4uIAoE"
   },
   "outputs": [],
   "source": [
    "# Drop non-numerical values\n",
    "reg_data_cleaned = reg_data_cleaned.drop(columns=['Smiles'])\n",
    "reg_data_cleaned = reg_data_cleaned.drop(columns=['Ipc'])\n"
   ]
  },
  {
   "cell_type": "code",
   "execution_count": 19,
   "metadata": {
    "id": "EjyNNWofLNgy"
   },
   "outputs": [
    {
     "data": {
      "text/html": [
       "<div>\n",
       "<style scoped>\n",
       "    .dataframe tbody tr th:only-of-type {\n",
       "        vertical-align: middle;\n",
       "    }\n",
       "\n",
       "    .dataframe tbody tr th {\n",
       "        vertical-align: top;\n",
       "    }\n",
       "\n",
       "    .dataframe thead th {\n",
       "        text-align: right;\n",
       "    }\n",
       "</style>\n",
       "<table border=\"1\" class=\"dataframe\">\n",
       "  <thead>\n",
       "    <tr style=\"text-align: right;\">\n",
       "      <th></th>\n",
       "      <th>Reliability</th>\n",
       "      <th>Type</th>\n",
       "      <th>StandardTest</th>\n",
       "      <th>System_setup</th>\n",
       "      <th>reaction_time</th>\n",
       "      <th>Biodegradation</th>\n",
       "      <th>MaxAbsEStateIndex</th>\n",
       "      <th>MaxEStateIndex</th>\n",
       "      <th>MinAbsEStateIndex</th>\n",
       "      <th>MinEStateIndex</th>\n",
       "      <th>...</th>\n",
       "      <th>fr_sulfonamd</th>\n",
       "      <th>fr_sulfone</th>\n",
       "      <th>fr_term_acetylene</th>\n",
       "      <th>fr_tetrazole</th>\n",
       "      <th>fr_thiazole</th>\n",
       "      <th>fr_thiocyan</th>\n",
       "      <th>fr_thiophene</th>\n",
       "      <th>fr_unbrch_alkane</th>\n",
       "      <th>fr_urea</th>\n",
       "      <th>SPS</th>\n",
       "    </tr>\n",
       "  </thead>\n",
       "  <tbody>\n",
       "    <tr>\n",
       "      <th>0</th>\n",
       "      <td>2</td>\n",
       "      <td>Inherent</td>\n",
       "      <td>Test 302 B</td>\n",
       "      <td>DOC Die Away</td>\n",
       "      <td>28.0</td>\n",
       "      <td>0.1000</td>\n",
       "      <td>6.320833</td>\n",
       "      <td>6.320833</td>\n",
       "      <td>0.000000</td>\n",
       "      <td>0.000000</td>\n",
       "      <td>...</td>\n",
       "      <td>0</td>\n",
       "      <td>0</td>\n",
       "      <td>0</td>\n",
       "      <td>0</td>\n",
       "      <td>0</td>\n",
       "      <td>0</td>\n",
       "      <td>0</td>\n",
       "      <td>0</td>\n",
       "      <td>0</td>\n",
       "      <td>55.250000</td>\n",
       "    </tr>\n",
       "    <tr>\n",
       "      <th>1</th>\n",
       "      <td>1</td>\n",
       "      <td>Ready</td>\n",
       "      <td>Test 301 C</td>\n",
       "      <td>Closed Respirometer</td>\n",
       "      <td>28.0</td>\n",
       "      <td>0.0000</td>\n",
       "      <td>6.491327</td>\n",
       "      <td>6.491327</td>\n",
       "      <td>1.027346</td>\n",
       "      <td>-2.511080</td>\n",
       "      <td>...</td>\n",
       "      <td>0</td>\n",
       "      <td>0</td>\n",
       "      <td>0</td>\n",
       "      <td>0</td>\n",
       "      <td>0</td>\n",
       "      <td>0</td>\n",
       "      <td>0</td>\n",
       "      <td>0</td>\n",
       "      <td>0</td>\n",
       "      <td>11.333333</td>\n",
       "    </tr>\n",
       "    <tr>\n",
       "      <th>3</th>\n",
       "      <td>1</td>\n",
       "      <td>Ready</td>\n",
       "      <td>Test 301 C</td>\n",
       "      <td>Closed Respirometer</td>\n",
       "      <td>28.0</td>\n",
       "      <td>0.0700</td>\n",
       "      <td>10.101122</td>\n",
       "      <td>10.101122</td>\n",
       "      <td>0.363519</td>\n",
       "      <td>0.363519</td>\n",
       "      <td>...</td>\n",
       "      <td>0</td>\n",
       "      <td>0</td>\n",
       "      <td>0</td>\n",
       "      <td>0</td>\n",
       "      <td>0</td>\n",
       "      <td>0</td>\n",
       "      <td>0</td>\n",
       "      <td>0</td>\n",
       "      <td>0</td>\n",
       "      <td>14.800000</td>\n",
       "    </tr>\n",
       "    <tr>\n",
       "      <th>4</th>\n",
       "      <td>1</td>\n",
       "      <td>Ready</td>\n",
       "      <td>Test 301 F</td>\n",
       "      <td>Closed Respirometer</td>\n",
       "      <td>14.0</td>\n",
       "      <td>0.0100</td>\n",
       "      <td>13.332122</td>\n",
       "      <td>13.332122</td>\n",
       "      <td>0.009210</td>\n",
       "      <td>-0.009210</td>\n",
       "      <td>...</td>\n",
       "      <td>0</td>\n",
       "      <td>0</td>\n",
       "      <td>0</td>\n",
       "      <td>0</td>\n",
       "      <td>0</td>\n",
       "      <td>0</td>\n",
       "      <td>0</td>\n",
       "      <td>0</td>\n",
       "      <td>0</td>\n",
       "      <td>12.160000</td>\n",
       "    </tr>\n",
       "    <tr>\n",
       "      <th>5</th>\n",
       "      <td>1</td>\n",
       "      <td>Ready</td>\n",
       "      <td>Test 301 B</td>\n",
       "      <td>CO2 Evolution</td>\n",
       "      <td>28.0</td>\n",
       "      <td>0.0593</td>\n",
       "      <td>10.818153</td>\n",
       "      <td>10.818153</td>\n",
       "      <td>0.576637</td>\n",
       "      <td>-0.908344</td>\n",
       "      <td>...</td>\n",
       "      <td>0</td>\n",
       "      <td>0</td>\n",
       "      <td>0</td>\n",
       "      <td>0</td>\n",
       "      <td>0</td>\n",
       "      <td>0</td>\n",
       "      <td>0</td>\n",
       "      <td>0</td>\n",
       "      <td>0</td>\n",
       "      <td>13.000000</td>\n",
       "    </tr>\n",
       "  </tbody>\n",
       "</table>\n",
       "<p>5 rows × 216 columns</p>\n",
       "</div>"
      ],
      "text/plain": [
       "   Reliability      Type StandardTest         System_setup  reaction_time  \\\n",
       "0            2  Inherent   Test 302 B         DOC Die Away           28.0   \n",
       "1            1     Ready   Test 301 C  Closed Respirometer           28.0   \n",
       "3            1     Ready   Test 301 C  Closed Respirometer           28.0   \n",
       "4            1     Ready   Test 301 F  Closed Respirometer           14.0   \n",
       "5            1     Ready   Test 301 B        CO2 Evolution           28.0   \n",
       "\n",
       "   Biodegradation  MaxAbsEStateIndex  MaxEStateIndex  MinAbsEStateIndex  \\\n",
       "0          0.1000           6.320833        6.320833           0.000000   \n",
       "1          0.0000           6.491327        6.491327           1.027346   \n",
       "3          0.0700          10.101122       10.101122           0.363519   \n",
       "4          0.0100          13.332122       13.332122           0.009210   \n",
       "5          0.0593          10.818153       10.818153           0.576637   \n",
       "\n",
       "   MinEStateIndex  ...  fr_sulfonamd  fr_sulfone  fr_term_acetylene  \\\n",
       "0        0.000000  ...             0           0                  0   \n",
       "1       -2.511080  ...             0           0                  0   \n",
       "3        0.363519  ...             0           0                  0   \n",
       "4       -0.009210  ...             0           0                  0   \n",
       "5       -0.908344  ...             0           0                  0   \n",
       "\n",
       "   fr_tetrazole  fr_thiazole  fr_thiocyan  fr_thiophene  fr_unbrch_alkane  \\\n",
       "0             0            0            0             0                 0   \n",
       "1             0            0            0             0                 0   \n",
       "3             0            0            0             0                 0   \n",
       "4             0            0            0             0                 0   \n",
       "5             0            0            0             0                 0   \n",
       "\n",
       "   fr_urea        SPS  \n",
       "0        0  55.250000  \n",
       "1        0  11.333333  \n",
       "3        0  14.800000  \n",
       "4        0  12.160000  \n",
       "5        0  13.000000  \n",
       "\n",
       "[5 rows x 216 columns]"
      ]
     },
     "execution_count": 19,
     "metadata": {},
     "output_type": "execute_result"
    }
   ],
   "source": [
    "reg_data_cleaned.head()"
   ]
  },
  {
   "cell_type": "code",
   "execution_count": 20,
   "metadata": {},
   "outputs": [],
   "source": [
    "reg_data_cleaned.to_excel(\"reg_data_cleaned.xlsx\",sheet_name='Sheet_name_1') "
   ]
  },
  {
   "cell_type": "code",
   "execution_count": 21,
   "metadata": {},
   "outputs": [
    {
     "data": {
      "text/plain": [
       "(8832, 216)"
      ]
     },
     "execution_count": 21,
     "metadata": {},
     "output_type": "execute_result"
    }
   ],
   "source": [
    "#Cleaned file name as df for ease of typing\n",
    "df = reg_data_cleaned\n",
    "df.shape"
   ]
  },
  {
   "cell_type": "code",
   "execution_count": 92,
   "metadata": {},
   "outputs": [
    {
     "data": {
      "text/html": [
       "<div>\n",
       "<style scoped>\n",
       "    .dataframe tbody tr th:only-of-type {\n",
       "        vertical-align: middle;\n",
       "    }\n",
       "\n",
       "    .dataframe tbody tr th {\n",
       "        vertical-align: top;\n",
       "    }\n",
       "\n",
       "    .dataframe thead th {\n",
       "        text-align: right;\n",
       "    }\n",
       "</style>\n",
       "<table border=\"1\" class=\"dataframe\">\n",
       "  <thead>\n",
       "    <tr style=\"text-align: right;\">\n",
       "      <th></th>\n",
       "      <th>Reliability</th>\n",
       "      <th>reaction_time</th>\n",
       "      <th>Biodegradation</th>\n",
       "      <th>MaxAbsEStateIndex</th>\n",
       "      <th>MaxEStateIndex</th>\n",
       "      <th>MinAbsEStateIndex</th>\n",
       "      <th>MinEStateIndex</th>\n",
       "      <th>qed</th>\n",
       "      <th>SPS</th>\n",
       "      <th>MolWt</th>\n",
       "      <th>...</th>\n",
       "      <th>StandardTest_7</th>\n",
       "      <th>StandardTest_8</th>\n",
       "      <th>StandardTest_9</th>\n",
       "      <th>StandardTest_10</th>\n",
       "      <th>StandardTest_11</th>\n",
       "      <th>StandardTest_12</th>\n",
       "      <th>System_setup_0</th>\n",
       "      <th>System_setup_1</th>\n",
       "      <th>System_setup_2</th>\n",
       "      <th>System_setup_3</th>\n",
       "    </tr>\n",
       "  </thead>\n",
       "  <tbody>\n",
       "    <tr>\n",
       "      <th>0</th>\n",
       "      <td>2</td>\n",
       "      <td>28.0</td>\n",
       "      <td>0.1000</td>\n",
       "      <td>6.320833</td>\n",
       "      <td>6.320833</td>\n",
       "      <td>0.000000</td>\n",
       "      <td>0.000000</td>\n",
       "      <td>0.519261</td>\n",
       "      <td>55.250000</td>\n",
       "      <td>187.714</td>\n",
       "      <td>...</td>\n",
       "      <td>0</td>\n",
       "      <td>0</td>\n",
       "      <td>0</td>\n",
       "      <td>1</td>\n",
       "      <td>0</td>\n",
       "      <td>0</td>\n",
       "      <td>0</td>\n",
       "      <td>0</td>\n",
       "      <td>0</td>\n",
       "      <td>1</td>\n",
       "    </tr>\n",
       "    <tr>\n",
       "      <th>1</th>\n",
       "      <td>1</td>\n",
       "      <td>28.0</td>\n",
       "      <td>0.0000</td>\n",
       "      <td>6.491327</td>\n",
       "      <td>6.491327</td>\n",
       "      <td>1.027346</td>\n",
       "      <td>-2.511080</td>\n",
       "      <td>0.569960</td>\n",
       "      <td>11.333333</td>\n",
       "      <td>253.204</td>\n",
       "      <td>...</td>\n",
       "      <td>0</td>\n",
       "      <td>0</td>\n",
       "      <td>0</td>\n",
       "      <td>0</td>\n",
       "      <td>0</td>\n",
       "      <td>0</td>\n",
       "      <td>0</td>\n",
       "      <td>0</td>\n",
       "      <td>1</td>\n",
       "      <td>0</td>\n",
       "    </tr>\n",
       "    <tr>\n",
       "      <th>3</th>\n",
       "      <td>1</td>\n",
       "      <td>28.0</td>\n",
       "      <td>0.0700</td>\n",
       "      <td>10.101122</td>\n",
       "      <td>10.101122</td>\n",
       "      <td>0.363519</td>\n",
       "      <td>0.363519</td>\n",
       "      <td>0.553535</td>\n",
       "      <td>14.800000</td>\n",
       "      <td>142.242</td>\n",
       "      <td>...</td>\n",
       "      <td>0</td>\n",
       "      <td>0</td>\n",
       "      <td>0</td>\n",
       "      <td>0</td>\n",
       "      <td>0</td>\n",
       "      <td>0</td>\n",
       "      <td>0</td>\n",
       "      <td>0</td>\n",
       "      <td>1</td>\n",
       "      <td>0</td>\n",
       "    </tr>\n",
       "    <tr>\n",
       "      <th>4</th>\n",
       "      <td>1</td>\n",
       "      <td>14.0</td>\n",
       "      <td>0.0100</td>\n",
       "      <td>13.332122</td>\n",
       "      <td>13.332122</td>\n",
       "      <td>0.009210</td>\n",
       "      <td>-0.009210</td>\n",
       "      <td>0.299012</td>\n",
       "      <td>12.160000</td>\n",
       "      <td>320.351</td>\n",
       "      <td>...</td>\n",
       "      <td>0</td>\n",
       "      <td>0</td>\n",
       "      <td>1</td>\n",
       "      <td>0</td>\n",
       "      <td>0</td>\n",
       "      <td>0</td>\n",
       "      <td>0</td>\n",
       "      <td>0</td>\n",
       "      <td>1</td>\n",
       "      <td>0</td>\n",
       "    </tr>\n",
       "    <tr>\n",
       "      <th>5</th>\n",
       "      <td>1</td>\n",
       "      <td>28.0</td>\n",
       "      <td>0.0593</td>\n",
       "      <td>10.818153</td>\n",
       "      <td>10.818153</td>\n",
       "      <td>0.576637</td>\n",
       "      <td>-0.908344</td>\n",
       "      <td>0.315336</td>\n",
       "      <td>13.000000</td>\n",
       "      <td>458.001</td>\n",
       "      <td>...</td>\n",
       "      <td>0</td>\n",
       "      <td>0</td>\n",
       "      <td>0</td>\n",
       "      <td>0</td>\n",
       "      <td>0</td>\n",
       "      <td>0</td>\n",
       "      <td>1</td>\n",
       "      <td>0</td>\n",
       "      <td>0</td>\n",
       "      <td>0</td>\n",
       "    </tr>\n",
       "  </tbody>\n",
       "</table>\n",
       "<p>5 rows × 232 columns</p>\n",
       "</div>"
      ],
      "text/plain": [
       "   Reliability  reaction_time  Biodegradation  MaxAbsEStateIndex  \\\n",
       "0            2           28.0          0.1000           6.320833   \n",
       "1            1           28.0          0.0000           6.491327   \n",
       "3            1           28.0          0.0700          10.101122   \n",
       "4            1           14.0          0.0100          13.332122   \n",
       "5            1           28.0          0.0593          10.818153   \n",
       "\n",
       "   MaxEStateIndex  MinAbsEStateIndex  MinEStateIndex       qed        SPS  \\\n",
       "0        6.320833           0.000000        0.000000  0.519261  55.250000   \n",
       "1        6.491327           1.027346       -2.511080  0.569960  11.333333   \n",
       "3       10.101122           0.363519        0.363519  0.553535  14.800000   \n",
       "4       13.332122           0.009210       -0.009210  0.299012  12.160000   \n",
       "5       10.818153           0.576637       -0.908344  0.315336  13.000000   \n",
       "\n",
       "     MolWt  ...  StandardTest_7  StandardTest_8  StandardTest_9  \\\n",
       "0  187.714  ...               0               0               0   \n",
       "1  253.204  ...               0               0               0   \n",
       "3  142.242  ...               0               0               0   \n",
       "4  320.351  ...               0               0               1   \n",
       "5  458.001  ...               0               0               0   \n",
       "\n",
       "   StandardTest_10  StandardTest_11  StandardTest_12  System_setup_0  \\\n",
       "0                1                0                0               0   \n",
       "1                0                0                0               0   \n",
       "3                0                0                0               0   \n",
       "4                0                0                0               0   \n",
       "5                0                0                0               1   \n",
       "\n",
       "   System_setup_1  System_setup_2  System_setup_3  \n",
       "0               0               0               1  \n",
       "1               0               1               0  \n",
       "3               0               1               0  \n",
       "4               0               1               0  \n",
       "5               0               0               0  \n",
       "\n",
       "[5 rows x 232 columns]"
      ]
     },
     "execution_count": 92,
     "metadata": {},
     "output_type": "execute_result"
    }
   ],
   "source": [
    "#One Hot Encoding\n",
    "# Converted Type ,Standard Test ,System Setup from string to nominal data type\n",
    "dfle = pd.get_dummies(df, columns = ['Type', 'StandardTest', 'System_setup'])\n",
    "dfle.head()"
   ]
  },
  {
   "cell_type": "code",
   "execution_count": null,
   "metadata": {},
   "outputs": [],
   "source": [
    "#One Hot Encoding\n",
    "#from sklearn.preprocessing import LabelEncoder\n",
    "#le = LabelEncoder()"
   ]
  },
  {
   "cell_type": "code",
   "execution_count": null,
   "metadata": {},
   "outputs": [],
   "source": [
    "# Converting categorial variable Type,StandardTest and System setup to numerical type\n",
    "#dfle = df\n",
    "#dfle.Type=le.fit_transform(dfle.Type)\n",
    "#dfle.StandardTest = le.fit_transform(dfle.StandardTest)\n",
    "#dfle.System_setup =le.fit_transform(dfle.System_setup)\n",
    "#dfle.head()"
   ]
  },
  {
   "cell_type": "code",
   "execution_count": 93,
   "metadata": {},
   "outputs": [
    {
     "data": {
      "text/plain": [
       "(8832, 216)"
      ]
     },
     "execution_count": 93,
     "metadata": {},
     "output_type": "execute_result"
    }
   ],
   "source": [
    "dfle.shape"
   ]
  },
  {
   "cell_type": "code",
   "execution_count": 94,
   "metadata": {},
   "outputs": [
    {
     "data": {
      "text/html": [
       "<div>\n",
       "<style scoped>\n",
       "    .dataframe tbody tr th:only-of-type {\n",
       "        vertical-align: middle;\n",
       "    }\n",
       "\n",
       "    .dataframe tbody tr th {\n",
       "        vertical-align: top;\n",
       "    }\n",
       "\n",
       "    .dataframe thead th {\n",
       "        text-align: right;\n",
       "    }\n",
       "</style>\n",
       "<table border=\"1\" class=\"dataframe\">\n",
       "  <thead>\n",
       "    <tr style=\"text-align: right;\">\n",
       "      <th></th>\n",
       "      <th>Reliability</th>\n",
       "      <th>Type</th>\n",
       "      <th>StandardTest</th>\n",
       "      <th>System_setup</th>\n",
       "      <th>reaction_time</th>\n",
       "      <th>Biodegradation</th>\n",
       "      <th>MaxAbsEStateIndex</th>\n",
       "      <th>MaxEStateIndex</th>\n",
       "      <th>MinAbsEStateIndex</th>\n",
       "      <th>MinEStateIndex</th>\n",
       "      <th>...</th>\n",
       "      <th>fr_sulfonamd</th>\n",
       "      <th>fr_sulfone</th>\n",
       "      <th>fr_term_acetylene</th>\n",
       "      <th>fr_tetrazole</th>\n",
       "      <th>fr_thiazole</th>\n",
       "      <th>fr_thiocyan</th>\n",
       "      <th>fr_thiophene</th>\n",
       "      <th>fr_unbrch_alkane</th>\n",
       "      <th>fr_urea</th>\n",
       "      <th>SPS</th>\n",
       "    </tr>\n",
       "  </thead>\n",
       "  <tbody>\n",
       "    <tr>\n",
       "      <th>count</th>\n",
       "      <td>8832.000000</td>\n",
       "      <td>8832.000000</td>\n",
       "      <td>8832.000000</td>\n",
       "      <td>8832.000000</td>\n",
       "      <td>8832.000000</td>\n",
       "      <td>8832.000000</td>\n",
       "      <td>8832.000000</td>\n",
       "      <td>8832.000000</td>\n",
       "      <td>8832.000000</td>\n",
       "      <td>8832.000000</td>\n",
       "      <td>...</td>\n",
       "      <td>8832.000000</td>\n",
       "      <td>8832.000000</td>\n",
       "      <td>8832.000000</td>\n",
       "      <td>8832.000000</td>\n",
       "      <td>8832.000000</td>\n",
       "      <td>8832.000000</td>\n",
       "      <td>8832.000000</td>\n",
       "      <td>8832.000000</td>\n",
       "      <td>8832.000000</td>\n",
       "      <td>8832.000000</td>\n",
       "    </tr>\n",
       "    <tr>\n",
       "      <th>mean</th>\n",
       "      <td>1.280910</td>\n",
       "      <td>0.908401</td>\n",
       "      <td>6.946784</td>\n",
       "      <td>1.492527</td>\n",
       "      <td>22.671578</td>\n",
       "      <td>0.391660</td>\n",
       "      <td>8.930692</td>\n",
       "      <td>8.930692</td>\n",
       "      <td>0.401711</td>\n",
       "      <td>-0.489081</td>\n",
       "      <td>...</td>\n",
       "      <td>0.008492</td>\n",
       "      <td>0.004982</td>\n",
       "      <td>0.003397</td>\n",
       "      <td>0.002264</td>\n",
       "      <td>0.005774</td>\n",
       "      <td>0.000453</td>\n",
       "      <td>0.001925</td>\n",
       "      <td>1.996037</td>\n",
       "      <td>0.022192</td>\n",
       "      <td>14.725601</td>\n",
       "    </tr>\n",
       "    <tr>\n",
       "      <th>std</th>\n",
       "      <td>0.449469</td>\n",
       "      <td>0.288475</td>\n",
       "      <td>2.316361</td>\n",
       "      <td>0.987609</td>\n",
       "      <td>11.837930</td>\n",
       "      <td>0.354642</td>\n",
       "      <td>3.275173</td>\n",
       "      <td>3.275173</td>\n",
       "      <td>0.495574</td>\n",
       "      <td>1.512619</td>\n",
       "      <td>...</td>\n",
       "      <td>0.095395</td>\n",
       "      <td>0.070410</td>\n",
       "      <td>0.058186</td>\n",
       "      <td>0.058241</td>\n",
       "      <td>0.078706</td>\n",
       "      <td>0.026062</td>\n",
       "      <td>0.043833</td>\n",
       "      <td>5.248732</td>\n",
       "      <td>0.181730</td>\n",
       "      <td>8.993958</td>\n",
       "    </tr>\n",
       "    <tr>\n",
       "      <th>min</th>\n",
       "      <td>1.000000</td>\n",
       "      <td>0.000000</td>\n",
       "      <td>0.000000</td>\n",
       "      <td>0.000000</td>\n",
       "      <td>0.000000</td>\n",
       "      <td>0.000000</td>\n",
       "      <td>1.500000</td>\n",
       "      <td>1.500000</td>\n",
       "      <td>0.000000</td>\n",
       "      <td>-10.050093</td>\n",
       "      <td>...</td>\n",
       "      <td>0.000000</td>\n",
       "      <td>0.000000</td>\n",
       "      <td>0.000000</td>\n",
       "      <td>0.000000</td>\n",
       "      <td>0.000000</td>\n",
       "      <td>0.000000</td>\n",
       "      <td>0.000000</td>\n",
       "      <td>0.000000</td>\n",
       "      <td>0.000000</td>\n",
       "      <td>1.000000</td>\n",
       "    </tr>\n",
       "    <tr>\n",
       "      <th>25%</th>\n",
       "      <td>1.000000</td>\n",
       "      <td>1.000000</td>\n",
       "      <td>5.000000</td>\n",
       "      <td>1.000000</td>\n",
       "      <td>14.000000</td>\n",
       "      <td>0.035000</td>\n",
       "      <td>5.800639</td>\n",
       "      <td>5.800639</td>\n",
       "      <td>0.088380</td>\n",
       "      <td>-0.785342</td>\n",
       "      <td>...</td>\n",
       "      <td>0.000000</td>\n",
       "      <td>0.000000</td>\n",
       "      <td>0.000000</td>\n",
       "      <td>0.000000</td>\n",
       "      <td>0.000000</td>\n",
       "      <td>0.000000</td>\n",
       "      <td>0.000000</td>\n",
       "      <td>0.000000</td>\n",
       "      <td>0.000000</td>\n",
       "      <td>9.933333</td>\n",
       "    </tr>\n",
       "    <tr>\n",
       "      <th>50%</th>\n",
       "      <td>1.000000</td>\n",
       "      <td>1.000000</td>\n",
       "      <td>7.000000</td>\n",
       "      <td>2.000000</td>\n",
       "      <td>28.000000</td>\n",
       "      <td>0.310000</td>\n",
       "      <td>10.089815</td>\n",
       "      <td>10.089815</td>\n",
       "      <td>0.240713</td>\n",
       "      <td>-0.182275</td>\n",
       "      <td>...</td>\n",
       "      <td>0.000000</td>\n",
       "      <td>0.000000</td>\n",
       "      <td>0.000000</td>\n",
       "      <td>0.000000</td>\n",
       "      <td>0.000000</td>\n",
       "      <td>0.000000</td>\n",
       "      <td>0.000000</td>\n",
       "      <td>0.000000</td>\n",
       "      <td>0.000000</td>\n",
       "      <td>11.370370</td>\n",
       "    </tr>\n",
       "    <tr>\n",
       "      <th>75%</th>\n",
       "      <td>2.000000</td>\n",
       "      <td>1.000000</td>\n",
       "      <td>9.000000</td>\n",
       "      <td>2.000000</td>\n",
       "      <td>28.000000</td>\n",
       "      <td>0.739000</td>\n",
       "      <td>11.319712</td>\n",
       "      <td>11.319712</td>\n",
       "      <td>0.583333</td>\n",
       "      <td>0.355278</td>\n",
       "      <td>...</td>\n",
       "      <td>0.000000</td>\n",
       "      <td>0.000000</td>\n",
       "      <td>0.000000</td>\n",
       "      <td>0.000000</td>\n",
       "      <td>0.000000</td>\n",
       "      <td>0.000000</td>\n",
       "      <td>0.000000</td>\n",
       "      <td>1.000000</td>\n",
       "      <td>0.000000</td>\n",
       "      <td>14.888889</td>\n",
       "    </tr>\n",
       "    <tr>\n",
       "      <th>max</th>\n",
       "      <td>2.000000</td>\n",
       "      <td>1.000000</td>\n",
       "      <td>12.000000</td>\n",
       "      <td>3.000000</td>\n",
       "      <td>214.000000</td>\n",
       "      <td>1.000000</td>\n",
       "      <td>16.169670</td>\n",
       "      <td>16.169670</td>\n",
       "      <td>7.853531</td>\n",
       "      <td>4.000000</td>\n",
       "      <td>...</td>\n",
       "      <td>2.000000</td>\n",
       "      <td>1.000000</td>\n",
       "      <td>1.000000</td>\n",
       "      <td>2.000000</td>\n",
       "      <td>2.000000</td>\n",
       "      <td>2.000000</td>\n",
       "      <td>1.000000</td>\n",
       "      <td>99.000000</td>\n",
       "      <td>4.000000</td>\n",
       "      <td>69.083333</td>\n",
       "    </tr>\n",
       "  </tbody>\n",
       "</table>\n",
       "<p>8 rows × 216 columns</p>\n",
       "</div>"
      ],
      "text/plain": [
       "       Reliability         Type  StandardTest  System_setup  reaction_time  \\\n",
       "count  8832.000000  8832.000000   8832.000000   8832.000000    8832.000000   \n",
       "mean      1.280910     0.908401      6.946784      1.492527      22.671578   \n",
       "std       0.449469     0.288475      2.316361      0.987609      11.837930   \n",
       "min       1.000000     0.000000      0.000000      0.000000       0.000000   \n",
       "25%       1.000000     1.000000      5.000000      1.000000      14.000000   \n",
       "50%       1.000000     1.000000      7.000000      2.000000      28.000000   \n",
       "75%       2.000000     1.000000      9.000000      2.000000      28.000000   \n",
       "max       2.000000     1.000000     12.000000      3.000000     214.000000   \n",
       "\n",
       "       Biodegradation  MaxAbsEStateIndex  MaxEStateIndex  MinAbsEStateIndex  \\\n",
       "count     8832.000000        8832.000000     8832.000000        8832.000000   \n",
       "mean         0.391660           8.930692        8.930692           0.401711   \n",
       "std          0.354642           3.275173        3.275173           0.495574   \n",
       "min          0.000000           1.500000        1.500000           0.000000   \n",
       "25%          0.035000           5.800639        5.800639           0.088380   \n",
       "50%          0.310000          10.089815       10.089815           0.240713   \n",
       "75%          0.739000          11.319712       11.319712           0.583333   \n",
       "max          1.000000          16.169670       16.169670           7.853531   \n",
       "\n",
       "       MinEStateIndex  ...  fr_sulfonamd   fr_sulfone  fr_term_acetylene  \\\n",
       "count     8832.000000  ...   8832.000000  8832.000000        8832.000000   \n",
       "mean        -0.489081  ...      0.008492     0.004982           0.003397   \n",
       "std          1.512619  ...      0.095395     0.070410           0.058186   \n",
       "min        -10.050093  ...      0.000000     0.000000           0.000000   \n",
       "25%         -0.785342  ...      0.000000     0.000000           0.000000   \n",
       "50%         -0.182275  ...      0.000000     0.000000           0.000000   \n",
       "75%          0.355278  ...      0.000000     0.000000           0.000000   \n",
       "max          4.000000  ...      2.000000     1.000000           1.000000   \n",
       "\n",
       "       fr_tetrazole  fr_thiazole  fr_thiocyan  fr_thiophene  fr_unbrch_alkane  \\\n",
       "count   8832.000000  8832.000000  8832.000000   8832.000000       8832.000000   \n",
       "mean       0.002264     0.005774     0.000453      0.001925          1.996037   \n",
       "std        0.058241     0.078706     0.026062      0.043833          5.248732   \n",
       "min        0.000000     0.000000     0.000000      0.000000          0.000000   \n",
       "25%        0.000000     0.000000     0.000000      0.000000          0.000000   \n",
       "50%        0.000000     0.000000     0.000000      0.000000          0.000000   \n",
       "75%        0.000000     0.000000     0.000000      0.000000          1.000000   \n",
       "max        2.000000     2.000000     2.000000      1.000000         99.000000   \n",
       "\n",
       "           fr_urea          SPS  \n",
       "count  8832.000000  8832.000000  \n",
       "mean      0.022192    14.725601  \n",
       "std       0.181730     8.993958  \n",
       "min       0.000000     1.000000  \n",
       "25%       0.000000     9.933333  \n",
       "50%       0.000000    11.370370  \n",
       "75%       0.000000    14.888889  \n",
       "max       4.000000    69.083333  \n",
       "\n",
       "[8 rows x 216 columns]"
      ]
     },
     "execution_count": 94,
     "metadata": {},
     "output_type": "execute_result"
    }
   ],
   "source": [
    "dfle.describe()"
   ]
  },
  {
   "cell_type": "markdown",
   "metadata": {},
   "source": [
    "# 3.MODEL FITTING"
   ]
  },
  {
   "cell_type": "code",
   "execution_count": 95,
   "metadata": {
    "id": "f8OPjkNFHKIN"
   },
   "outputs": [],
   "source": [
    "# print the shape of your resultant x(input) and y (output) data"
   ]
  },
  {
   "cell_type": "code",
   "execution_count": 96,
   "metadata": {
    "id": "1HGeQHKAN9VO"
   },
   "outputs": [
    {
     "data": {
      "text/plain": [
       "(8832,)"
      ]
     },
     "execution_count": 96,
     "metadata": {},
     "output_type": "execute_result"
    }
   ],
   "source": [
    "y = dfle['Biodegradation']\n",
    "y.shape"
   ]
  },
  {
   "cell_type": "code",
   "execution_count": 97,
   "metadata": {
    "id": "4vkAwIfqOTq0"
   },
   "outputs": [
    {
     "data": {
      "text/plain": [
       "(8832, 215)"
      ]
     },
     "execution_count": 97,
     "metadata": {},
     "output_type": "execute_result"
    }
   ],
   "source": [
    "X = dfle.drop(columns ='Biodegradation')\n",
    "X.shape"
   ]
  },
  {
   "cell_type": "code",
   "execution_count": 98,
   "metadata": {
    "id": "3CYuNUWEOZkp"
   },
   "outputs": [],
   "source": [
    "# Create a linear regression object\n",
    "reg_model = linear_model.LinearRegression()"
   ]
  },
  {
   "cell_type": "markdown",
   "metadata": {
    "id": "AyNCXOf6HMv5"
   },
   "source": [
    "###  Model Developement and Testing: (15 points)\n",
    "\n",
    "Implement linear regression using your data. Plot the boxplot of R2 values for a test split of [0.4,0.35,0.3,0.25,0.2,0.1]. Also plot your predicted and actual values as a scatter plot at the test split of 0.1."
   ]
  },
  {
   "cell_type": "code",
   "execution_count": 99,
   "metadata": {
    "id": "nzstV5lJOs7e"
   },
   "outputs": [],
   "source": [
    "#fit the model with different test_size\n",
    "test_size = [0.4,0.35,0.3,0.25,0.2,0.1]\n",
    "r2=[]\n",
    "# Split the data into training/testing sets (80:20 split)\n",
    "for n in test_size:\n",
    "    X_train, X_test, y_train, y_test = train_test_split(X, y, test_size= n, random_state= 100)\n",
    "    #model training\n",
    "    reg_model.fit(X_train, y_train)\n",
    "    # predictions using the trained model\n",
    "    y_pred = reg_model.predict(X_test)\n",
    "    r2.append(r2_score(y_test, y_pred))\n"
   ]
  },
  {
   "cell_type": "code",
   "execution_count": 100,
   "metadata": {
    "id": "SAgryGRePFhL"
   },
   "outputs": [
    {
     "name": "stdout",
     "output_type": "stream",
     "text": [
      "[0.29022201919575097, 0.302061743107613, 0.30307905873972674, 0.29691176263806895, -597.0545879378406, 0.3270735971702754]\n"
     ]
    }
   ],
   "source": [
    "#Rsquared values\n",
    "print(r2)"
   ]
  },
  {
   "cell_type": "code",
   "execution_count": 101,
   "metadata": {
    "id": "5bUMxq4RPRy6"
   },
   "outputs": [
    {
     "data": {
      "text/html": [
       "<div>\n",
       "<style scoped>\n",
       "    .dataframe tbody tr th:only-of-type {\n",
       "        vertical-align: middle;\n",
       "    }\n",
       "\n",
       "    .dataframe tbody tr th {\n",
       "        vertical-align: top;\n",
       "    }\n",
       "\n",
       "    .dataframe thead th {\n",
       "        text-align: right;\n",
       "    }\n",
       "</style>\n",
       "<table border=\"1\" class=\"dataframe\">\n",
       "  <thead>\n",
       "    <tr style=\"text-align: right;\">\n",
       "      <th></th>\n",
       "      <th>test_size</th>\n",
       "      <th>Rsquared</th>\n",
       "    </tr>\n",
       "  </thead>\n",
       "  <tbody>\n",
       "    <tr>\n",
       "      <th>0</th>\n",
       "      <td>0.40</td>\n",
       "      <td>0.290222</td>\n",
       "    </tr>\n",
       "    <tr>\n",
       "      <th>1</th>\n",
       "      <td>0.35</td>\n",
       "      <td>0.302062</td>\n",
       "    </tr>\n",
       "    <tr>\n",
       "      <th>2</th>\n",
       "      <td>0.30</td>\n",
       "      <td>0.303079</td>\n",
       "    </tr>\n",
       "    <tr>\n",
       "      <th>3</th>\n",
       "      <td>0.25</td>\n",
       "      <td>0.296912</td>\n",
       "    </tr>\n",
       "    <tr>\n",
       "      <th>4</th>\n",
       "      <td>0.20</td>\n",
       "      <td>-597.054588</td>\n",
       "    </tr>\n",
       "  </tbody>\n",
       "</table>\n",
       "</div>"
      ],
      "text/plain": [
       "   test_size    Rsquared\n",
       "0       0.40    0.290222\n",
       "1       0.35    0.302062\n",
       "2       0.30    0.303079\n",
       "3       0.25    0.296912\n",
       "4       0.20 -597.054588"
      ]
     },
     "execution_count": 101,
     "metadata": {},
     "output_type": "execute_result"
    }
   ],
   "source": [
    "#Data feame for r2 value for each test size\n",
    "df_r2=pd.DataFrame(np.column_stack([test_size, r2]), columns=['test_size', 'Rsquared'])\n",
    "df_r2.head()"
   ]
  },
  {
   "cell_type": "code",
   "execution_count": 102,
   "metadata": {
    "id": "1hLMk_ARPZCd"
   },
   "outputs": [
    {
     "data": {
      "text/plain": [
       "<Axes: >"
      ]
     },
     "execution_count": 102,
     "metadata": {},
     "output_type": "execute_result"
    },
    {
     "data": {
      "image/png": "[encoded data removed]",
      "text/plain": [
       "<Figure size 640x480 with 1 Axes>"
      ]
     },
     "metadata": {},
     "output_type": "display_data"
    }
   ],
   "source": [
    "#Plot Boxplot for R2 values\n",
    "df_r2.plot(kind='box', y=['Rsquared'])"
   ]
  },
  {
   "cell_type": "markdown",
   "metadata": {},
   "source": [
    "# 4.PLOTTING"
   ]
  },
  {
   "cell_type": "code",
   "execution_count": 103,
   "metadata": {
    "id": "YbMHaWXqPsAa"
   },
   "outputs": [],
   "source": [
    "#plot your predicted and actual values as a scatter plot at the test split of 0.1."
   ]
  },
  {
   "cell_type": "code",
   "execution_count": 104,
   "metadata": {
    "id": "Vl6YwvfDHVhY"
   },
   "outputs": [],
   "source": [
    "#test_size=0.1\n",
    "X_train, X_test, y_train, y_test = train_test_split(X, y, test_size= 0.1, random_state= 100)\n",
    "#model training\n",
    "reg_model.fit(X_train, y_train)\n",
    "# predictions using the trained model\n",
    "y_pred = reg_model.predict(X_test)"
   ]
  },
  {
   "cell_type": "code",
   "execution_count": 105,
   "metadata": {
    "id": "oiG_SXfUQhyN"
   },
   "outputs": [
    {
     "data": {
      "text/plain": [
       "(884,)"
      ]
     },
     "execution_count": 105,
     "metadata": {},
     "output_type": "execute_result"
    }
   ],
   "source": [
    "y_pred.shape"
   ]
  },
  {
   "cell_type": "code",
   "execution_count": 106,
   "metadata": {
    "id": "4znYahH1QwU1"
   },
   "outputs": [
    {
     "data": {
      "text/plain": [
       "(884,)"
      ]
     },
     "execution_count": 106,
     "metadata": {},
     "output_type": "execute_result"
    }
   ],
   "source": [
    "y_test.shape"
   ]
  },
  {
   "cell_type": "code",
   "execution_count": 107,
   "metadata": {
    "id": "qVfuJO6bRDBC"
   },
   "outputs": [],
   "source": [
    "#Index set made for X values as X values are matrix\n",
    "index=[]\n",
    "for i in range(0,len(y_test)):\n",
    "    index.append(i)"
   ]
  },
  {
   "cell_type": "code",
   "execution_count": 108,
   "metadata": {
    "id": "sh3iYUUCQO2X"
   },
   "outputs": [],
   "source": [
    "#Dataframe for index,y_test,y_pred\n",
    "\n",
    "df_box=pd.DataFrame(np.column_stack([index,y_test, y_pred]),\n",
    "                               columns=['index','y_test', 'y_pred'])\n"
   ]
  },
  {
   "cell_type": "code",
   "execution_count": 109,
   "metadata": {
    "id": "UXPhrEMmRnlL"
   },
   "outputs": [
    {
     "data": {
      "text/plain": [
       "<matplotlib.legend.Legend at 0x2364eccc850>"
      ]
     },
     "execution_count": 109,
     "metadata": {},
     "output_type": "execute_result"
    },
    {
     "data": {
      "image/png": "[encoded data removed]",
      "text/plain": [
       "<Figure size 640x480 with 1 Axes>"
      ]
     },
     "metadata": {},
     "output_type": "display_data"
    }
   ],
   "source": [
    "#Plot scatter graph between y test and predicted\n",
    "fig, ax = plt.subplots()\n",
    "ax.scatter(df_box['index'], df_box['y_test'], color='green', label='y_test')\n",
    "ax.scatter(df_box['index'], df_box['y_pred'], color='blue', label='y_pred')\n",
    "ax.set_xlabel('X')\n",
    "ax.set_ylabel('y')\n",
    "ax.set_title('y vs X')\n",
    "plt.legend()"
   ]
  },
  {
   "cell_type": "code",
   "execution_count": 110,
   "metadata": {},
   "outputs": [],
   "source": [
    "# Plotting the graph y_pred vs y_test"
   ]
  },
  {
   "cell_type": "code",
   "execution_count": 111,
   "metadata": {},
   "outputs": [
    {
     "data": {
      "text/plain": [
       "Text(0.5, 1.0, 'y_test versus y_pred')"
      ]
     },
     "execution_count": 111,
     "metadata": {},
     "output_type": "execute_result"
    },
    {
     "data": {
      "image/png": "[encoded data removed]",
      "text/plain": [
       "<Figure size 640x480 with 1 Axes>"
      ]
     },
     "metadata": {},
     "output_type": "display_data"
    }
   ],
   "source": [
    "plt.scatter(df_box['y_test'],df_box['y_pred'])\n",
    "plt.xlabel('y_test')\n",
    "plt.ylabel('y_pred')\n",
    "plt.title('y_test versus y_pred')"
   ]
  },
  {
   "cell_type": "code",
   "execution_count": 112,
   "metadata": {
    "id": "BfladwYCHYau"
   },
   "outputs": [],
   "source": [
    "#Implement a new regression algorithm of your choice here"
   ]
  },
  {
   "cell_type": "code",
   "execution_count": 113,
   "metadata": {
    "id": "U2DabuBzViz2"
   },
   "outputs": [],
   "source": [
    "#Implement a new regression algorithm of your choice here\n",
    "# New Regression Model: BayesianRidge()"
   ]
  },
  {
   "cell_type": "code",
   "execution_count": 114,
   "metadata": {
    "id": "jIjaqgA5Vl-_"
   },
   "outputs": [],
   "source": [
    "from sklearn import linear_model"
   ]
  },
  {
   "cell_type": "code",
   "execution_count": 115,
   "metadata": {
    "id": "1yQASpVlkDGn"
   },
   "outputs": [],
   "source": [
    "model = linear_model.BayesianRidge()"
   ]
  },
  {
   "cell_type": "code",
   "execution_count": 116,
   "metadata": {},
   "outputs": [],
   "source": [
    "\n",
    "#model training\n",
    "model.fit(X_train, y_train)\n",
    "# predictions using the trained model\n",
    "y_pred = model.predict(X_test)"
   ]
  },
  {
   "cell_type": "code",
   "execution_count": 117,
   "metadata": {},
   "outputs": [
    {
     "data": {
      "text/plain": [
       "0.3370599740004654"
      ]
     },
     "execution_count": 117,
     "metadata": {},
     "output_type": "execute_result"
    }
   ],
   "source": [
    "model.score(X,y)"
   ]
  },
  {
   "cell_type": "markdown",
   "metadata": {
    "id": "maRm6NqOHZcZ"
   },
   "source": [
    "## Part (b): Classification Task\n",
    "### Data Preparation (5 points)\n",
    "Load the data file. Your data contains a feature called as 'Smiles'. Use the same code as before to convert it into actual molecular descriptors. <b> Hint </b>: You will have a total of 209 descriptors for each Smiles string. Next, remove any rows that contains NaNs. Finally, remove any feature that still contains a smiles string and the feature 'Ipc'. Class labels of 0 and 1 are also provided in the data file. 1 is biodegradable and 0 is not biodegradable."
   ]
  },
  {
   "cell_type": "markdown",
   "metadata": {},
   "source": [
    "# 1.DATA READING AND ADDING MOLECULAR DESCRIPTOR"
   ]
  },
  {
   "cell_type": "code",
   "execution_count": 51,
   "metadata": {
    "id": "9LClqIi0SALy"
   },
   "outputs": [
    {
     "data": {
      "text/html": [
       "<div>\n",
       "<style scoped>\n",
       "    .dataframe tbody tr th:only-of-type {\n",
       "        vertical-align: middle;\n",
       "    }\n",
       "\n",
       "    .dataframe tbody tr th {\n",
       "        vertical-align: top;\n",
       "    }\n",
       "\n",
       "    .dataframe thead th {\n",
       "        text-align: right;\n",
       "    }\n",
       "</style>\n",
       "<table border=\"1\" class=\"dataframe\">\n",
       "  <thead>\n",
       "    <tr style=\"text-align: right;\">\n",
       "      <th></th>\n",
       "      <th>Smiles</th>\n",
       "      <th>Class</th>\n",
       "    </tr>\n",
       "  </thead>\n",
       "  <tbody>\n",
       "    <tr>\n",
       "      <th>0</th>\n",
       "      <td>COc1c2occc2cc2ccc(=O)oc12</td>\n",
       "      <td>0</td>\n",
       "    </tr>\n",
       "    <tr>\n",
       "      <th>1</th>\n",
       "      <td>CCCCC(CC)COC(=O)C(C#N)=C(c1ccccc1)c1ccc(OC)cc1</td>\n",
       "      <td>0</td>\n",
       "    </tr>\n",
       "    <tr>\n",
       "      <th>2</th>\n",
       "      <td>C[C@H](CO)CCCC1CCCCC1</td>\n",
       "      <td>1</td>\n",
       "    </tr>\n",
       "    <tr>\n",
       "      <th>3</th>\n",
       "      <td>C[C@]12C=CC(=O)C=C1CC[C@@H]1[C@@H]2CC[C@]2(C)[...</td>\n",
       "      <td>1</td>\n",
       "    </tr>\n",
       "    <tr>\n",
       "      <th>4</th>\n",
       "      <td>CCCCCCCCCCCCCCC/C=C/CC1CC(=O)OC1=O</td>\n",
       "      <td>0</td>\n",
       "    </tr>\n",
       "  </tbody>\n",
       "</table>\n",
       "</div>"
      ],
      "text/plain": [
       "                                              Smiles  Class\n",
       "0                          COc1c2occc2cc2ccc(=O)oc12      0\n",
       "1     CCCCC(CC)COC(=O)C(C#N)=C(c1ccccc1)c1ccc(OC)cc1      0\n",
       "2                              C[C@H](CO)CCCC1CCCCC1      1\n",
       "3  C[C@]12C=CC(=O)C=C1CC[C@@H]1[C@@H]2CC[C@]2(C)[...      1\n",
       "4                 CCCCCCCCCCCCCCC/C=C/CC1CC(=O)OC1=O      0"
      ]
     },
     "execution_count": 51,
     "metadata": {},
     "output_type": "execute_result"
    }
   ],
   "source": [
    "# Reading class data file\n",
    "class_data_copy = pd.read_excel('class_data_545_midterm.xlsx')\n",
    "class_data_1 = class_data_copy\n",
    "class_data_copy.head()"
   ]
  },
  {
   "cell_type": "code",
   "execution_count": 52,
   "metadata": {
    "id": "WOkWwYHRKVML"
   },
   "outputs": [],
   "source": [
    "# Create list of descriptor name\n",
    "list = Descriptors._descList\n",
    "\n",
    "columns = []\n",
    "for i,j in list:\n",
    "  columns.append(i)\n",
    "\n",
    "def calculate_descriptors(smiles):\n",
    "    molecule = Chem.MolFromSmiles(smiles)\n",
    "    descriptors = Descriptors.CalcMolDescriptors(molecule)\n",
    "    return descriptors"
   ]
  },
  {
   "cell_type": "code",
   "execution_count": 53,
   "metadata": {
    "id": "aFjlRxYtJyox"
   },
   "outputs": [
    {
     "name": "stderr",
     "output_type": "stream",
     "text": [
      "[15:17:49] WARNING: not removing hydrogen atom without neighbors\n",
      "[15:17:49] WARNING: not removing hydrogen atom without neighbors\n",
      "[15:17:49] WARNING: not removing hydrogen atom without neighbors\n",
      "[15:17:53] WARNING: not removing hydrogen atom without neighbors\n",
      "[15:17:53] WARNING: not removing hydrogen atom without neighbors\n",
      "[15:17:53] WARNING: not removing hydrogen atom without neighbors\n",
      "[15:17:54] WARNING: not removing hydrogen atom without neighbors\n",
      "[15:17:54] WARNING: not removing hydrogen atom without neighbors\n",
      "[15:17:54] WARNING: not removing hydrogen atom without neighbors\n",
      "[15:17:58] WARNING: not removing hydrogen atom without neighbors\n",
      "[15:17:58] WARNING: not removing hydrogen atom without neighbors\n",
      "[15:17:58] WARNING: not removing hydrogen atom without neighbors\n",
      "[15:18:11] WARNING: not removing hydrogen atom without neighbors\n",
      "[15:18:11] WARNING: not removing hydrogen atom without neighbors\n",
      "[15:18:11] WARNING: not removing hydrogen atom without neighbors\n",
      "[15:18:19] WARNING: not removing hydrogen atom without neighbors\n",
      "[15:18:19] WARNING: not removing hydrogen atom without neighbors\n",
      "[15:18:19] WARNING: not removing hydrogen atom without neighbors\n",
      "[15:18:19] WARNING: not removing hydrogen atom without neighbors\n",
      "[15:18:19] WARNING: not removing hydrogen atom without neighbors\n",
      "[15:18:19] WARNING: not removing hydrogen atom without neighbors\n",
      "[15:18:19] WARNING: not removing hydrogen atom without neighbors\n",
      "[15:18:19] WARNING: not removing hydrogen atom without neighbors\n",
      "[15:18:19] WARNING: not removing hydrogen atom without neighbors\n",
      "[15:18:19] WARNING: not removing hydrogen atom without neighbors\n",
      "[15:18:19] WARNING: not removing hydrogen atom without neighbors\n",
      "[15:18:19] WARNING: not removing hydrogen atom without neighbors\n",
      "[15:18:19] WARNING: not removing hydrogen atom without neighbors\n",
      "[15:18:19] WARNING: not removing hydrogen atom without neighbors\n",
      "[15:18:19] WARNING: not removing hydrogen atom without neighbors\n",
      "[15:18:19] WARNING: not removing hydrogen atom without neighbors\n",
      "[15:18:19] WARNING: not removing hydrogen atom without neighbors\n",
      "[15:18:19] WARNING: not removing hydrogen atom without neighbors\n",
      "[15:18:19] WARNING: not removing hydrogen atom without neighbors\n",
      "[15:18:19] WARNING: not removing hydrogen atom without neighbors\n",
      "[15:18:33] WARNING: not removing hydrogen atom without neighbors\n",
      "[15:18:33] WARNING: not removing hydrogen atom without neighbors\n",
      "[15:18:33] WARNING: not removing hydrogen atom without neighbors\n",
      "[15:18:33] WARNING: not removing hydrogen atom without neighbors\n",
      "[15:18:33] WARNING: not removing hydrogen atom without neighbors\n",
      "[15:18:33] WARNING: not removing hydrogen atom without neighbors\n",
      "[15:18:33] WARNING: not removing hydrogen atom without neighbors\n",
      "[15:18:33] WARNING: not removing hydrogen atom without neighbors\n",
      "[15:18:33] WARNING: not removing hydrogen atom without neighbors\n",
      "[15:18:33] WARNING: not removing hydrogen atom without neighbors\n",
      "[15:18:34] WARNING: not removing hydrogen atom without neighbors\n",
      "[15:18:34] WARNING: not removing hydrogen atom without neighbors\n",
      "[15:18:34] WARNING: not removing hydrogen atom without neighbors\n",
      "[15:18:34] WARNING: not removing hydrogen atom without neighbors\n",
      "[15:18:34] WARNING: not removing hydrogen atom without neighbors\n",
      "[15:18:34] WARNING: not removing hydrogen atom without neighbors\n",
      "[15:18:34] WARNING: not removing hydrogen atom without neighbors\n",
      "[15:18:34] WARNING: not removing hydrogen atom without neighbors\n",
      "[15:18:34] WARNING: not removing hydrogen atom without neighbors\n",
      "[15:18:39] WARNING: not removing hydrogen atom without neighbors\n",
      "[15:18:39] WARNING: not removing hydrogen atom without neighbors\n",
      "[15:18:39] WARNING: not removing hydrogen atom without neighbors\n",
      "[15:18:44] WARNING: not removing hydrogen atom without neighbors\n",
      "[15:18:44] WARNING: not removing hydrogen atom without neighbors\n",
      "[15:18:44] WARNING: not removing hydrogen atom without neighbors\n",
      "[15:18:44] WARNING: not removing hydrogen atom without neighbors\n",
      "[15:18:44] WARNING: not removing hydrogen atom without neighbors\n",
      "[15:18:44] WARNING: not removing hydrogen atom without neighbors\n",
      "[15:18:44] WARNING: not removing hydrogen atom without neighbors\n",
      "[15:18:44] WARNING: not removing hydrogen atom without neighbors\n",
      "[15:18:44] WARNING: not removing hydrogen atom without neighbors\n",
      "[15:18:44] WARNING: not removing hydrogen atom without neighbors\n",
      "[15:18:44] WARNING: not removing hydrogen atom without neighbors\n",
      "[15:18:44] WARNING: not removing hydrogen atom without neighbors\n",
      "[15:18:44] WARNING: not removing hydrogen atom without neighbors\n",
      "[15:18:44] WARNING: not removing hydrogen atom without neighbors\n",
      "[15:18:44] WARNING: not removing hydrogen atom without neighbors\n",
      "[15:18:44] WARNING: not removing hydrogen atom without neighbors\n",
      "[15:18:44] WARNING: not removing hydrogen atom without neighbors\n",
      "[15:18:44] WARNING: not removing hydrogen atom without neighbors\n",
      "[15:18:44] WARNING: not removing hydrogen atom without neighbors\n",
      "[15:18:44] WARNING: not removing hydrogen atom without neighbors\n",
      "[15:18:45] WARNING: not removing hydrogen atom without neighbors\n",
      "[15:18:45] WARNING: not removing hydrogen atom without neighbors\n",
      "[15:18:45] WARNING: not removing hydrogen atom without neighbors\n",
      "[15:18:45] WARNING: not removing hydrogen atom without neighbors\n",
      "[15:18:45] WARNING: not removing hydrogen atom without neighbors\n",
      "[15:18:45] WARNING: not removing hydrogen atom without neighbors\n",
      "[15:18:46] WARNING: not removing hydrogen atom without neighbors\n",
      "[15:18:46] WARNING: not removing hydrogen atom without neighbors\n",
      "[15:18:46] WARNING: not removing hydrogen atom without neighbors\n",
      "[15:18:54] WARNING: not removing hydrogen atom without neighbors\n",
      "[15:18:54] WARNING: not removing hydrogen atom without neighbors\n",
      "[15:18:54] WARNING: not removing hydrogen atom without neighbors\n",
      "[15:18:54] WARNING: not removing hydrogen atom without neighbors\n",
      "[15:18:54] WARNING: not removing hydrogen atom without neighbors\n",
      "[15:18:54] WARNING: not removing hydrogen atom without neighbors\n",
      "[15:18:54] WARNING: not removing hydrogen atom without neighbors\n",
      "[15:18:54] WARNING: not removing hydrogen atom without neighbors\n",
      "[15:18:54] WARNING: not removing hydrogen atom without neighbors\n",
      "[15:18:54] WARNING: not removing hydrogen atom without neighbors\n",
      "[15:18:55] WARNING: not removing hydrogen atom without neighbors\n",
      "[15:18:55] WARNING: not removing hydrogen atom without neighbors\n",
      "[15:18:55] WARNING: not removing hydrogen atom without neighbors\n",
      "[15:18:57] WARNING: not removing hydrogen atom without neighbors\n",
      "[15:18:57] WARNING: not removing hydrogen atom without neighbors\n",
      "[15:18:57] WARNING: not removing hydrogen atom without neighbors\n",
      "[15:18:57] WARNING: not removing hydrogen atom without neighbors\n",
      "[15:18:57] WARNING: not removing hydrogen atom without neighbors\n",
      "[15:18:57] WARNING: not removing hydrogen atom without neighbors\n",
      "[15:18:57] WARNING: not removing hydrogen atom without neighbors\n",
      "[15:18:57] WARNING: not removing hydrogen atom without neighbors\n",
      "[15:18:57] WARNING: not removing hydrogen atom without neighbors\n",
      "[15:18:57] WARNING: not removing hydrogen atom without neighbors\n",
      "[15:19:08] WARNING: not removing hydrogen atom without neighbors\n",
      "[15:19:08] WARNING: not removing hydrogen atom without neighbors\n",
      "[15:19:08] WARNING: not removing hydrogen atom without neighbors\n",
      "[15:19:08] WARNING: not removing hydrogen atom without neighbors\n",
      "[15:19:08] WARNING: not removing hydrogen atom without neighbors\n",
      "[15:19:08] WARNING: not removing hydrogen atom without neighbors\n",
      "[15:19:10] WARNING: not removing hydrogen atom without neighbors\n",
      "[15:19:10] WARNING: not removing hydrogen atom without neighbors\n",
      "[15:19:10] WARNING: not removing hydrogen atom without neighbors\n",
      "[15:19:12] WARNING: not removing hydrogen atom without neighbors\n",
      "[15:19:12] WARNING: not removing hydrogen atom without neighbors\n",
      "[15:19:12] WARNING: not removing hydrogen atom without neighbors\n",
      "[15:19:16] WARNING: not removing hydrogen atom without neighbors\n",
      "[15:19:16] WARNING: not removing hydrogen atom without neighbors\n",
      "[15:19:16] WARNING: not removing hydrogen atom without neighbors\n",
      "[15:19:16] WARNING: not removing hydrogen atom without neighbors\n",
      "[15:19:16] WARNING: not removing hydrogen atom without neighbors\n",
      "[15:19:16] WARNING: not removing hydrogen atom without neighbors\n",
      "[15:19:16] WARNING: not removing hydrogen atom without neighbors\n",
      "[15:19:16] WARNING: not removing hydrogen atom without neighbors\n",
      "[15:19:16] WARNING: not removing hydrogen atom without neighbors\n",
      "[15:19:16] WARNING: not removing hydrogen atom without neighbors\n",
      "[15:19:22] WARNING: not removing hydrogen atom without neighbors\n",
      "[15:19:22] WARNING: not removing hydrogen atom without neighbors\n",
      "[15:19:22] WARNING: not removing hydrogen atom without neighbors\n",
      "[15:19:25] WARNING: not removing hydrogen atom without neighbors\n",
      "[15:19:25] WARNING: not removing hydrogen atom without neighbors\n",
      "[15:19:25] WARNING: not removing hydrogen atom without neighbors\n",
      "[15:19:25] WARNING: not removing hydrogen atom without neighbors\n",
      "[15:19:25] WARNING: not removing hydrogen atom without neighbors\n",
      "[15:19:25] WARNING: not removing hydrogen atom without neighbors\n",
      "[15:19:25] WARNING: not removing hydrogen atom without neighbors\n",
      "[15:19:25] WARNING: not removing hydrogen atom without neighbors\n",
      "[15:19:25] WARNING: not removing hydrogen atom without neighbors\n",
      "[15:19:28] WARNING: not removing hydrogen atom without neighbors\n",
      "[15:19:28] WARNING: not removing hydrogen atom without neighbors\n",
      "[15:19:28] WARNING: not removing hydrogen atom without neighbors\n",
      "[15:19:30] WARNING: not removing hydrogen atom without neighbors\n",
      "[15:19:30] WARNING: not removing hydrogen atom without neighbors\n",
      "[15:19:30] WARNING: not removing hydrogen atom without neighbors\n",
      "[15:19:44] WARNING: not removing hydrogen atom without neighbors\n",
      "[15:19:44] WARNING: not removing hydrogen atom without neighbors\n",
      "[15:19:44] WARNING: not removing hydrogen atom without neighbors\n",
      "[15:19:45] WARNING: not removing hydrogen atom without neighbors\n",
      "[15:19:45] WARNING: not removing hydrogen atom without neighbors\n",
      "[15:19:45] WARNING: not removing hydrogen atom without neighbors\n",
      "[15:19:46] WARNING: not removing hydrogen atom without neighbors\n",
      "[15:19:46] WARNING: not removing hydrogen atom without neighbors\n",
      "[15:19:46] WARNING: not removing hydrogen atom without neighbors\n",
      "[15:19:48] WARNING: not removing hydrogen atom without neighbors\n",
      "[15:19:48] WARNING: not removing hydrogen atom without neighbors\n",
      "[15:19:48] WARNING: not removing hydrogen atom without neighbors\n",
      "[15:19:49] WARNING: not removing hydrogen atom without neighbors\n",
      "[15:19:49] WARNING: not removing hydrogen atom without neighbors\n",
      "[15:19:49] WARNING: not removing hydrogen atom without neighbors\n",
      "[15:19:59] WARNING: not removing hydrogen atom without neighbors\n",
      "[15:19:59] WARNING: not removing hydrogen atom without neighbors\n",
      "[15:19:59] WARNING: not removing hydrogen atom without neighbors\n",
      "[15:20:03] WARNING: not removing hydrogen atom without neighbors\n",
      "[15:20:03] WARNING: not removing hydrogen atom without neighbors\n",
      "[15:20:03] WARNING: not removing hydrogen atom without neighbors\n",
      "[15:20:03] WARNING: not removing hydrogen atom without neighbors\n",
      "[15:20:03] WARNING: not removing hydrogen atom without neighbors\n",
      "[15:20:03] WARNING: not removing hydrogen atom without neighbors\n"
     ]
    }
   ],
   "source": [
    "# Create DataFrame for molecular descriptor\n",
    "class_data_1=pd.DataFrame(columns=columns)\n",
    "\n",
    "for i in range(0,len(class_data_copy)):\n",
    "    descriptors = calculate_descriptors(class_data_copy['Smiles'][i])\n",
    "    class_data_1.loc[len(class_data_1)] = descriptors"
   ]
  },
  {
   "cell_type": "code",
   "execution_count": 54,
   "metadata": {
    "id": "UVNOFeBYJyWS"
   },
   "outputs": [],
   "source": [
    "# Converting descriptor file to csv for ease of running\n",
    "class_data_1.to_csv(\"class_data_1.csv\")"
   ]
  },
  {
   "cell_type": "code",
   "execution_count": 55,
   "metadata": {
    "id": "ZgQHZcLnuKZ5"
   },
   "outputs": [
    {
     "data": {
      "text/html": [
       "<div>\n",
       "<style scoped>\n",
       "    .dataframe tbody tr th:only-of-type {\n",
       "        vertical-align: middle;\n",
       "    }\n",
       "\n",
       "    .dataframe tbody tr th {\n",
       "        vertical-align: top;\n",
       "    }\n",
       "\n",
       "    .dataframe thead th {\n",
       "        text-align: right;\n",
       "    }\n",
       "</style>\n",
       "<table border=\"1\" class=\"dataframe\">\n",
       "  <thead>\n",
       "    <tr style=\"text-align: right;\">\n",
       "      <th></th>\n",
       "      <th>Smiles</th>\n",
       "      <th>Class</th>\n",
       "      <th>MaxAbsEStateIndex</th>\n",
       "      <th>MaxEStateIndex</th>\n",
       "      <th>MinAbsEStateIndex</th>\n",
       "      <th>MinEStateIndex</th>\n",
       "      <th>qed</th>\n",
       "      <th>SPS</th>\n",
       "      <th>MolWt</th>\n",
       "      <th>HeavyAtomMolWt</th>\n",
       "      <th>...</th>\n",
       "      <th>fr_sulfonamd</th>\n",
       "      <th>fr_sulfone</th>\n",
       "      <th>fr_term_acetylene</th>\n",
       "      <th>fr_tetrazole</th>\n",
       "      <th>fr_thiazole</th>\n",
       "      <th>fr_thiocyan</th>\n",
       "      <th>fr_thiophene</th>\n",
       "      <th>fr_unbrch_alkane</th>\n",
       "      <th>fr_urea</th>\n",
       "      <th>SPS</th>\n",
       "    </tr>\n",
       "  </thead>\n",
       "  <tbody>\n",
       "    <tr>\n",
       "      <th>0</th>\n",
       "      <td>COc1c2occc2cc2ccc(=O)oc12</td>\n",
       "      <td>0</td>\n",
       "      <td>11.173100</td>\n",
       "      <td>11.173100</td>\n",
       "      <td>0.405828</td>\n",
       "      <td>-0.405828</td>\n",
       "      <td>0.586359</td>\n",
       "      <td>11.062500</td>\n",
       "      <td>216.192</td>\n",
       "      <td>208.128</td>\n",
       "      <td>...</td>\n",
       "      <td>0</td>\n",
       "      <td>0</td>\n",
       "      <td>0</td>\n",
       "      <td>0</td>\n",
       "      <td>0</td>\n",
       "      <td>0</td>\n",
       "      <td>0</td>\n",
       "      <td>0</td>\n",
       "      <td>0</td>\n",
       "      <td>11.062500</td>\n",
       "    </tr>\n",
       "    <tr>\n",
       "      <th>1</th>\n",
       "      <td>CCCCC(CC)COC(=O)C(C#N)=C(c1ccccc1)c1ccc(OC)cc1</td>\n",
       "      <td>0</td>\n",
       "      <td>12.852376</td>\n",
       "      <td>12.852376</td>\n",
       "      <td>0.020103</td>\n",
       "      <td>-0.572111</td>\n",
       "      <td>0.292535</td>\n",
       "      <td>11.241379</td>\n",
       "      <td>391.511</td>\n",
       "      <td>362.279</td>\n",
       "      <td>...</td>\n",
       "      <td>0</td>\n",
       "      <td>0</td>\n",
       "      <td>0</td>\n",
       "      <td>0</td>\n",
       "      <td>0</td>\n",
       "      <td>0</td>\n",
       "      <td>0</td>\n",
       "      <td>0</td>\n",
       "      <td>0</td>\n",
       "      <td>11.241379</td>\n",
       "    </tr>\n",
       "    <tr>\n",
       "      <th>2</th>\n",
       "      <td>C[C@H](CO)CCCC1CCCCC1</td>\n",
       "      <td>1</td>\n",
       "      <td>8.871743</td>\n",
       "      <td>8.871743</td>\n",
       "      <td>0.365741</td>\n",
       "      <td>0.365741</td>\n",
       "      <td>0.694302</td>\n",
       "      <td>21.692308</td>\n",
       "      <td>184.323</td>\n",
       "      <td>160.131</td>\n",
       "      <td>...</td>\n",
       "      <td>0</td>\n",
       "      <td>0</td>\n",
       "      <td>0</td>\n",
       "      <td>0</td>\n",
       "      <td>0</td>\n",
       "      <td>0</td>\n",
       "      <td>0</td>\n",
       "      <td>0</td>\n",
       "      <td>0</td>\n",
       "      <td>21.692308</td>\n",
       "    </tr>\n",
       "    <tr>\n",
       "      <th>3</th>\n",
       "      <td>C[C@]12C=CC(=O)C=C1CC[C@@H]1[C@@H]2CC[C@]2(C)[...</td>\n",
       "      <td>1</td>\n",
       "      <td>11.700542</td>\n",
       "      <td>11.700542</td>\n",
       "      <td>0.088987</td>\n",
       "      <td>-0.100305</td>\n",
       "      <td>0.737699</td>\n",
       "      <td>51.952381</td>\n",
       "      <td>286.415</td>\n",
       "      <td>260.207</td>\n",
       "      <td>...</td>\n",
       "      <td>0</td>\n",
       "      <td>0</td>\n",
       "      <td>0</td>\n",
       "      <td>0</td>\n",
       "      <td>0</td>\n",
       "      <td>0</td>\n",
       "      <td>0</td>\n",
       "      <td>0</td>\n",
       "      <td>0</td>\n",
       "      <td>51.952381</td>\n",
       "    </tr>\n",
       "    <tr>\n",
       "      <th>4</th>\n",
       "      <td>CCCCCCCCCCCCCCC/C=C/CC1CC(=O)OC1=O</td>\n",
       "      <td>0</td>\n",
       "      <td>11.299171</td>\n",
       "      <td>11.299171</td>\n",
       "      <td>0.240375</td>\n",
       "      <td>-0.375099</td>\n",
       "      <td>0.137965</td>\n",
       "      <td>17.560000</td>\n",
       "      <td>350.543</td>\n",
       "      <td>312.239</td>\n",
       "      <td>...</td>\n",
       "      <td>0</td>\n",
       "      <td>0</td>\n",
       "      <td>0</td>\n",
       "      <td>0</td>\n",
       "      <td>0</td>\n",
       "      <td>0</td>\n",
       "      <td>0</td>\n",
       "      <td>12</td>\n",
       "      <td>0</td>\n",
       "      <td>17.560000</td>\n",
       "    </tr>\n",
       "  </tbody>\n",
       "</table>\n",
       "<p>5 rows × 213 columns</p>\n",
       "</div>"
      ],
      "text/plain": [
       "                                              Smiles  Class  \\\n",
       "0                          COc1c2occc2cc2ccc(=O)oc12      0   \n",
       "1     CCCCC(CC)COC(=O)C(C#N)=C(c1ccccc1)c1ccc(OC)cc1      0   \n",
       "2                              C[C@H](CO)CCCC1CCCCC1      1   \n",
       "3  C[C@]12C=CC(=O)C=C1CC[C@@H]1[C@@H]2CC[C@]2(C)[...      1   \n",
       "4                 CCCCCCCCCCCCCCC/C=C/CC1CC(=O)OC1=O      0   \n",
       "\n",
       "   MaxAbsEStateIndex  MaxEStateIndex  MinAbsEStateIndex  MinEStateIndex  \\\n",
       "0          11.173100       11.173100           0.405828       -0.405828   \n",
       "1          12.852376       12.852376           0.020103       -0.572111   \n",
       "2           8.871743        8.871743           0.365741        0.365741   \n",
       "3          11.700542       11.700542           0.088987       -0.100305   \n",
       "4          11.299171       11.299171           0.240375       -0.375099   \n",
       "\n",
       "        qed        SPS    MolWt  HeavyAtomMolWt  ...  fr_sulfonamd  \\\n",
       "0  0.586359  11.062500  216.192         208.128  ...             0   \n",
       "1  0.292535  11.241379  391.511         362.279  ...             0   \n",
       "2  0.694302  21.692308  184.323         160.131  ...             0   \n",
       "3  0.737699  51.952381  286.415         260.207  ...             0   \n",
       "4  0.137965  17.560000  350.543         312.239  ...             0   \n",
       "\n",
       "   fr_sulfone  fr_term_acetylene  fr_tetrazole  fr_thiazole  fr_thiocyan  \\\n",
       "0           0                  0             0            0            0   \n",
       "1           0                  0             0            0            0   \n",
       "2           0                  0             0            0            0   \n",
       "3           0                  0             0            0            0   \n",
       "4           0                  0             0            0            0   \n",
       "\n",
       "   fr_thiophene  fr_unbrch_alkane  fr_urea        SPS  \n",
       "0             0                 0        0  11.062500  \n",
       "1             0                 0        0  11.241379  \n",
       "2             0                 0        0  21.692308  \n",
       "3             0                 0        0  51.952381  \n",
       "4             0                12        0  17.560000  \n",
       "\n",
       "[5 rows x 213 columns]"
      ]
     },
     "execution_count": 55,
     "metadata": {},
     "output_type": "execute_result"
    }
   ],
   "source": [
    "#Combine Molecular descriptor and Class Data\n",
    "classdata2 = class_data_copy.join(class_data_1)\n",
    "classdata2.head()"
   ]
  },
  {
   "cell_type": "code",
   "execution_count": 56,
   "metadata": {
    "id": "4OAlj-54v2Jr"
   },
   "outputs": [
    {
     "data": {
      "text/plain": [
       "(4000, 213)"
      ]
     },
     "execution_count": 56,
     "metadata": {},
     "output_type": "execute_result"
    }
   ],
   "source": [
    "classdata2.shape"
   ]
  },
  {
   "cell_type": "markdown",
   "metadata": {},
   "source": [
    "# 2.DATA CLEANING"
   ]
  },
  {
   "cell_type": "code",
   "execution_count": 57,
   "metadata": {
    "id": "eXXd8KmO2VpC"
   },
   "outputs": [],
   "source": [
    "#Dropping the values and non numerical entry\n",
    "classdata2 = classdata2.dropna()\n",
    "classdata2 =classdata2.drop(columns = ['Ipc'])\n",
    "\n",
    "classdata2 =classdata2.drop(columns = ['Smiles'])\n",
    "\n",
    "\n"
   ]
  },
  {
   "cell_type": "code",
   "execution_count": 58,
   "metadata": {
    "id": "iFHcplEr2Trc"
   },
   "outputs": [
    {
     "data": {
      "text/plain": [
       "(3544, 211)"
      ]
     },
     "execution_count": 58,
     "metadata": {},
     "output_type": "execute_result"
    }
   ],
   "source": [
    "classdata2.shape"
   ]
  },
  {
   "cell_type": "code",
   "execution_count": null,
   "metadata": {
    "id": "e1IoUSlSJySy"
   },
   "outputs": [],
   "source": [
    "# Convert cleaned file to csv for ease of reading\n",
    "classdata2.to_csv(\"class_data_cleaned.csv\")"
   ]
  },
  {
   "cell_type": "code",
   "execution_count": 59,
   "metadata": {
    "id": "c3YRxIJXnCRR"
   },
   "outputs": [
    {
     "data": {
      "text/plain": [
       "(3544, 211)"
      ]
     },
     "execution_count": 59,
     "metadata": {},
     "output_type": "execute_result"
    }
   ],
   "source": [
    "classdata2.shape"
   ]
  },
  {
   "cell_type": "code",
   "execution_count": 60,
   "metadata": {
    "id": "xmWGoqN5o05_"
   },
   "outputs": [
    {
     "data": {
      "text/html": [
       "<div>\n",
       "<style scoped>\n",
       "    .dataframe tbody tr th:only-of-type {\n",
       "        vertical-align: middle;\n",
       "    }\n",
       "\n",
       "    .dataframe tbody tr th {\n",
       "        vertical-align: top;\n",
       "    }\n",
       "\n",
       "    .dataframe thead th {\n",
       "        text-align: right;\n",
       "    }\n",
       "</style>\n",
       "<table border=\"1\" class=\"dataframe\">\n",
       "  <thead>\n",
       "    <tr style=\"text-align: right;\">\n",
       "      <th></th>\n",
       "      <th>Class</th>\n",
       "      <th>MaxAbsEStateIndex</th>\n",
       "      <th>MaxEStateIndex</th>\n",
       "      <th>MinAbsEStateIndex</th>\n",
       "      <th>MinEStateIndex</th>\n",
       "      <th>qed</th>\n",
       "      <th>SPS</th>\n",
       "      <th>MolWt</th>\n",
       "      <th>HeavyAtomMolWt</th>\n",
       "      <th>ExactMolWt</th>\n",
       "      <th>...</th>\n",
       "      <th>fr_sulfonamd</th>\n",
       "      <th>fr_sulfone</th>\n",
       "      <th>fr_term_acetylene</th>\n",
       "      <th>fr_tetrazole</th>\n",
       "      <th>fr_thiazole</th>\n",
       "      <th>fr_thiocyan</th>\n",
       "      <th>fr_thiophene</th>\n",
       "      <th>fr_unbrch_alkane</th>\n",
       "      <th>fr_urea</th>\n",
       "      <th>SPS</th>\n",
       "    </tr>\n",
       "  </thead>\n",
       "  <tbody>\n",
       "    <tr>\n",
       "      <th>0</th>\n",
       "      <td>0</td>\n",
       "      <td>11.173100</td>\n",
       "      <td>11.173100</td>\n",
       "      <td>0.405828</td>\n",
       "      <td>-0.405828</td>\n",
       "      <td>0.586359</td>\n",
       "      <td>11.062500</td>\n",
       "      <td>216.192</td>\n",
       "      <td>208.128</td>\n",
       "      <td>216.042259</td>\n",
       "      <td>...</td>\n",
       "      <td>0</td>\n",
       "      <td>0</td>\n",
       "      <td>0</td>\n",
       "      <td>0</td>\n",
       "      <td>0</td>\n",
       "      <td>0</td>\n",
       "      <td>0</td>\n",
       "      <td>0</td>\n",
       "      <td>0</td>\n",
       "      <td>11.062500</td>\n",
       "    </tr>\n",
       "    <tr>\n",
       "      <th>1</th>\n",
       "      <td>0</td>\n",
       "      <td>12.852376</td>\n",
       "      <td>12.852376</td>\n",
       "      <td>0.020103</td>\n",
       "      <td>-0.572111</td>\n",
       "      <td>0.292535</td>\n",
       "      <td>11.241379</td>\n",
       "      <td>391.511</td>\n",
       "      <td>362.279</td>\n",
       "      <td>391.214744</td>\n",
       "      <td>...</td>\n",
       "      <td>0</td>\n",
       "      <td>0</td>\n",
       "      <td>0</td>\n",
       "      <td>0</td>\n",
       "      <td>0</td>\n",
       "      <td>0</td>\n",
       "      <td>0</td>\n",
       "      <td>0</td>\n",
       "      <td>0</td>\n",
       "      <td>11.241379</td>\n",
       "    </tr>\n",
       "    <tr>\n",
       "      <th>2</th>\n",
       "      <td>1</td>\n",
       "      <td>8.871743</td>\n",
       "      <td>8.871743</td>\n",
       "      <td>0.365741</td>\n",
       "      <td>0.365741</td>\n",
       "      <td>0.694302</td>\n",
       "      <td>21.692308</td>\n",
       "      <td>184.323</td>\n",
       "      <td>160.131</td>\n",
       "      <td>184.182715</td>\n",
       "      <td>...</td>\n",
       "      <td>0</td>\n",
       "      <td>0</td>\n",
       "      <td>0</td>\n",
       "      <td>0</td>\n",
       "      <td>0</td>\n",
       "      <td>0</td>\n",
       "      <td>0</td>\n",
       "      <td>0</td>\n",
       "      <td>0</td>\n",
       "      <td>21.692308</td>\n",
       "    </tr>\n",
       "    <tr>\n",
       "      <th>3</th>\n",
       "      <td>1</td>\n",
       "      <td>11.700542</td>\n",
       "      <td>11.700542</td>\n",
       "      <td>0.088987</td>\n",
       "      <td>-0.100305</td>\n",
       "      <td>0.737699</td>\n",
       "      <td>51.952381</td>\n",
       "      <td>286.415</td>\n",
       "      <td>260.207</td>\n",
       "      <td>286.193280</td>\n",
       "      <td>...</td>\n",
       "      <td>0</td>\n",
       "      <td>0</td>\n",
       "      <td>0</td>\n",
       "      <td>0</td>\n",
       "      <td>0</td>\n",
       "      <td>0</td>\n",
       "      <td>0</td>\n",
       "      <td>0</td>\n",
       "      <td>0</td>\n",
       "      <td>51.952381</td>\n",
       "    </tr>\n",
       "    <tr>\n",
       "      <th>4</th>\n",
       "      <td>0</td>\n",
       "      <td>11.299171</td>\n",
       "      <td>11.299171</td>\n",
       "      <td>0.240375</td>\n",
       "      <td>-0.375099</td>\n",
       "      <td>0.137965</td>\n",
       "      <td>17.560000</td>\n",
       "      <td>350.543</td>\n",
       "      <td>312.239</td>\n",
       "      <td>350.282095</td>\n",
       "      <td>...</td>\n",
       "      <td>0</td>\n",
       "      <td>0</td>\n",
       "      <td>0</td>\n",
       "      <td>0</td>\n",
       "      <td>0</td>\n",
       "      <td>0</td>\n",
       "      <td>0</td>\n",
       "      <td>12</td>\n",
       "      <td>0</td>\n",
       "      <td>17.560000</td>\n",
       "    </tr>\n",
       "  </tbody>\n",
       "</table>\n",
       "<p>5 rows × 211 columns</p>\n",
       "</div>"
      ],
      "text/plain": [
       "   Class  MaxAbsEStateIndex  MaxEStateIndex  MinAbsEStateIndex  \\\n",
       "0      0          11.173100       11.173100           0.405828   \n",
       "1      0          12.852376       12.852376           0.020103   \n",
       "2      1           8.871743        8.871743           0.365741   \n",
       "3      1          11.700542       11.700542           0.088987   \n",
       "4      0          11.299171       11.299171           0.240375   \n",
       "\n",
       "   MinEStateIndex       qed        SPS    MolWt  HeavyAtomMolWt  ExactMolWt  \\\n",
       "0       -0.405828  0.586359  11.062500  216.192         208.128  216.042259   \n",
       "1       -0.572111  0.292535  11.241379  391.511         362.279  391.214744   \n",
       "2        0.365741  0.694302  21.692308  184.323         160.131  184.182715   \n",
       "3       -0.100305  0.737699  51.952381  286.415         260.207  286.193280   \n",
       "4       -0.375099  0.137965  17.560000  350.543         312.239  350.282095   \n",
       "\n",
       "   ...  fr_sulfonamd  fr_sulfone  fr_term_acetylene  fr_tetrazole  \\\n",
       "0  ...             0           0                  0             0   \n",
       "1  ...             0           0                  0             0   \n",
       "2  ...             0           0                  0             0   \n",
       "3  ...             0           0                  0             0   \n",
       "4  ...             0           0                  0             0   \n",
       "\n",
       "   fr_thiazole  fr_thiocyan  fr_thiophene  fr_unbrch_alkane  fr_urea  \\\n",
       "0            0            0             0                 0        0   \n",
       "1            0            0             0                 0        0   \n",
       "2            0            0             0                 0        0   \n",
       "3            0            0             0                 0        0   \n",
       "4            0            0             0                12        0   \n",
       "\n",
       "         SPS  \n",
       "0  11.062500  \n",
       "1  11.241379  \n",
       "2  21.692308  \n",
       "3  51.952381  \n",
       "4  17.560000  \n",
       "\n",
       "[5 rows x 211 columns]"
      ]
     },
     "execution_count": 60,
     "metadata": {},
     "output_type": "execute_result"
    }
   ],
   "source": [
    "classdata2.head()"
   ]
  },
  {
   "cell_type": "markdown",
   "metadata": {},
   "source": [
    "# 3.MODEL FITTING"
   ]
  },
  {
   "cell_type": "markdown",
   "metadata": {},
   "source": [
    "# 3.1 LOGISTIC REGRESSION"
   ]
  },
  {
   "cell_type": "code",
   "execution_count": 62,
   "metadata": {
    "id": "Jo1Uh9yzHe7Q"
   },
   "outputs": [],
   "source": [
    "# print the shape of your resultant x(input) and y (output) data\n"
   ]
  },
  {
   "cell_type": "code",
   "execution_count": 63,
   "metadata": {
    "id": "lR37ZGBymmRC"
   },
   "outputs": [
    {
     "data": {
      "text/plain": [
       "(3544,)"
      ]
     },
     "execution_count": 63,
     "metadata": {},
     "output_type": "execute_result"
    }
   ],
   "source": [
    "y = classdata2['Class']\n",
    "y.shape"
   ]
  },
  {
   "cell_type": "code",
   "execution_count": 64,
   "metadata": {
    "id": "3MeiSEUWmrAh"
   },
   "outputs": [
    {
     "data": {
      "text/plain": [
       "(3544, 210)"
      ]
     },
     "execution_count": 64,
     "metadata": {},
     "output_type": "execute_result"
    }
   ],
   "source": [
    "X = classdata2.drop(columns ='Class')\n",
    "X.shape"
   ]
  },
  {
   "cell_type": "markdown",
   "metadata": {
    "id": "dnj7Fwa7HhlU"
   },
   "source": [
    "###  Model Developement and Testing: (15 points)\n",
    "\n",
    "Implement Logistic Regression. Do you notice something when you use the default solver? Use the solver 'newton-cholesky' to see if the issue resolves. Why could this be happening? Print the test accuracy and the confusion matrix for the test data. Use a test split of 0.2"
   ]
  },
  {
   "cell_type": "code",
   "execution_count": 65,
   "metadata": {
    "id": "GJamnWbIHoEd"
   },
   "outputs": [],
   "source": [
    "# Split the data into training/testing sets (80:20 split)\n",
    "X_train, X_test, y_train, y_test = train_test_split(X, y, test_size= 0.20, random_state= 100)"
   ]
  },
  {
   "cell_type": "code",
   "execution_count": 66,
   "metadata": {
    "id": "ewqZXj52m2ts"
   },
   "outputs": [
    {
     "name": "stderr",
     "output_type": "stream",
     "text": [
      "C:\\Users\\Admin\\anaconda4\\Lib\\site-packages\\sklearn\\linear_model\\_logistic.py:460: ConvergenceWarning: lbfgs failed to converge (status=1):\n",
      "STOP: TOTAL NO. of ITERATIONS REACHED LIMIT.\n",
      "\n",
      "Increase the number of iterations (max_iter) or scale the data as shown in:\n",
      "    https://scikit-learn.org/stable/modules/preprocessing.html\n",
      "Please also refer to the documentation for alternative solver options:\n",
      "    https://scikit-learn.org/stable/modules/linear_model.html#logistic-regression\n",
      "  n_iter_i = _check_optimize_result(\n"
     ]
    },
    {
     "data": {
      "text/html": [
       "<style>#sk-container-id-1 {color: black;}#sk-container-id-1 pre{padding: 0;}#sk-container-id-1 div.sk-toggleable {background-color: white;}#sk-container-id-1 label.sk-toggleable__label {cursor: pointer;display: block;width: 100%;margin-bottom: 0;padding: 0.3em;box-sizing: border-box;text-align: center;}#sk-container-id-1 label.sk-toggleable__label-arrow:before {content: \"▸\";float: left;margin-right: 0.25em;color: #696969;}#sk-container-id-1 label.sk-toggleable__label-arrow:hover:before {color: black;}#sk-container-id-1 div.sk-estimator:hover label.sk-toggleable__label-arrow:before {color: black;}#sk-container-id-1 div.sk-toggleable__content {max-height: 0;max-width: 0;overflow: hidden;text-align: left;background-color: #f0f8ff;}#sk-container-id-1 div.sk-toggleable__content pre {margin: 0.2em;color: black;border-radius: 0.25em;background-color: #f0f8ff;}#sk-container-id-1 input.sk-toggleable__control:checked~div.sk-toggleable__content {max-height: 200px;max-width: 100%;overflow: auto;}#sk-container-id-1 input.sk-toggleable__control:checked~label.sk-toggleable__label-arrow:before {content: \"▾\";}#sk-container-id-1 div.sk-estimator input.sk-toggleable__control:checked~label.sk-toggleable__label {background-color: #d4ebff;}#sk-container-id-1 div.sk-label input.sk-toggleable__control:checked~label.sk-toggleable__label {background-color: #d4ebff;}#sk-container-id-1 input.sk-hidden--visually {border: 0;clip: rect(1px 1px 1px 1px);clip: rect(1px, 1px, 1px, 1px);height: 1px;margin: -1px;overflow: hidden;padding: 0;position: absolute;width: 1px;}#sk-container-id-1 div.sk-estimator {font-family: monospace;background-color: #f0f8ff;border: 1px dotted black;border-radius: 0.25em;box-sizing: border-box;margin-bottom: 0.5em;}#sk-container-id-1 div.sk-estimator:hover {background-color: #d4ebff;}#sk-container-id-1 div.sk-parallel-item::after {content: \"\";width: 100%;border-bottom: 1px solid gray;flex-grow: 1;}#sk-container-id-1 div.sk-label:hover label.sk-toggleable__label {background-color: #d4ebff;}#sk-container-id-1 div.sk-serial::before {content: \"\";position: absolute;border-left: 1px solid gray;box-sizing: border-box;top: 0;bottom: 0;left: 50%;z-index: 0;}#sk-container-id-1 div.sk-serial {display: flex;flex-direction: column;align-items: center;background-color: white;padding-right: 0.2em;padding-left: 0.2em;position: relative;}#sk-container-id-1 div.sk-item {position: relative;z-index: 1;}#sk-container-id-1 div.sk-parallel {display: flex;align-items: stretch;justify-content: center;background-color: white;position: relative;}#sk-container-id-1 div.sk-item::before, #sk-container-id-1 div.sk-parallel-item::before {content: \"\";position: absolute;border-left: 1px solid gray;box-sizing: border-box;top: 0;bottom: 0;left: 50%;z-index: -1;}#sk-container-id-1 div.sk-parallel-item {display: flex;flex-direction: column;z-index: 1;position: relative;background-color: white;}#sk-container-id-1 div.sk-parallel-item:first-child::after {align-self: flex-end;width: 50%;}#sk-container-id-1 div.sk-parallel-item:last-child::after {align-self: flex-start;width: 50%;}#sk-container-id-1 div.sk-parallel-item:only-child::after {width: 0;}#sk-container-id-1 div.sk-dashed-wrapped {border: 1px dashed gray;margin: 0 0.4em 0.5em 0.4em;box-sizing: border-box;padding-bottom: 0.4em;background-color: white;}#sk-container-id-1 div.sk-label label {font-family: monospace;font-weight: bold;display: inline-block;line-height: 1.2em;}#sk-container-id-1 div.sk-label-container {text-align: center;}#sk-container-id-1 div.sk-container {/* jupyter's `normalize.less` sets `[hidden] { display: none; }` but bootstrap.min.css set `[hidden] { display: none !important; }` so we also need the `!important` here to be able to override the default hidden behavior on the sphinx rendered scikit-learn.org. See: https://github.com/scikit-learn/scikit-learn/issues/21755 */display: inline-block !important;position: relative;}#sk-container-id-1 div.sk-text-repr-fallback {display: none;}</style><div id=\"sk-container-id-1\" class=\"sk-top-container\"><div class=\"sk-text-repr-fallback\"><pre>LogisticRegression(random_state=100)</pre><b>In a Jupyter environment, please rerun this cell to show the HTML representation or trust the notebook. <br />On GitHub, the HTML representation is unable to render, please try loading this page with nbviewer.org.</b></div><div class=\"sk-container\" hidden><div class=\"sk-item\"><div class=\"sk-estimator sk-toggleable\"><input class=\"sk-toggleable__control sk-hidden--visually\" id=\"sk-estimator-id-1\" type=\"checkbox\" checked><label for=\"sk-estimator-id-1\" class=\"sk-toggleable__label sk-toggleable__label-arrow\">LogisticRegression</label><div class=\"sk-toggleable__content\"><pre>LogisticRegression(random_state=100)</pre></div></div></div></div></div>"
      ],
      "text/plain": [
       "LogisticRegression(random_state=100)"
      ]
     },
     "execution_count": 66,
     "metadata": {},
     "output_type": "execute_result"
    }
   ],
   "source": [
    "# Create a logistic regression object\n",
    "from sklearn.linear_model import LogisticRegression\n",
    "log_reg = LogisticRegression(random_state=100)\n",
    "log_reg.fit(X_train, y_train)\n"
   ]
  },
  {
   "cell_type": "code",
   "execution_count": 70,
   "metadata": {},
   "outputs": [],
   "source": [
    "# Predict y values\n",
    "y_predictions = log_reg.predict(X_test)"
   ]
  },
  {
   "cell_type": "markdown",
   "metadata": {},
   "source": [
    "# 4.CHECKING ACCURACY"
   ]
  },
  {
   "cell_type": "code",
   "execution_count": 71,
   "metadata": {},
   "outputs": [
    {
     "name": "stdout",
     "output_type": "stream",
     "text": [
      "0.770098730606488\n"
     ]
    }
   ],
   "source": [
    "# printing the test accuracy\n",
    "accuracy = log_reg.score(X_test, y_test)\n",
    "print(accuracy)"
   ]
  },
  {
   "cell_type": "code",
   "execution_count": 72,
   "metadata": {},
   "outputs": [
    {
     "name": "stdout",
     "output_type": "stream",
     "text": [
      "training set score is : 0.786\n",
      "test set score is : 0.770\n"
     ]
    }
   ],
   "source": [
    "print(\"training set score is : {:.3f}\" .format(log_reg.score(X_train,y_train)))\n",
    "print(\"test set score is : {:.3f}\" .format(log_reg.score(X_test,y_test)))"
   ]
  },
  {
   "cell_type": "code",
   "execution_count": 74,
   "metadata": {},
   "outputs": [
    {
     "name": "stdout",
     "output_type": "stream",
     "text": [
      "Precision:0.768797394177841,Recall:0.770098730606488,f1_score:0.7693701196751622\n"
     ]
    }
   ],
   "source": [
    "from sklearn.metrics import precision_score, recall_score, f1_score\n",
    "precision = precision_score(y_test,y_predictions, average='weighted')\n",
    "recall = recall_score(y_test,y_predictions, average='weighted')\n",
    "f1_score_value = f1_score(y_test,y_predictions, average='weighted')\n",
    "print(f'Precision:{precision},Recall:{recall},f1_score:{f1_score_value}')"
   ]
  },
  {
   "cell_type": "code",
   "execution_count": 75,
   "metadata": {},
   "outputs": [],
   "source": [
    "### Confusion Matrix\n"
   ]
  },
  {
   "cell_type": "code",
   "execution_count": 76,
   "metadata": {},
   "outputs": [],
   "source": [
    "from sklearn import metrics\n",
    "from sklearn.metrics import ConfusionMatrixDisplay"
   ]
  },
  {
   "cell_type": "code",
   "execution_count": 77,
   "metadata": {},
   "outputs": [
    {
     "data": {
      "text/plain": [
       "<sklearn.metrics._plot.confusion_matrix.ConfusionMatrixDisplay at 0x2367ae43310>"
      ]
     },
     "execution_count": 77,
     "metadata": {},
     "output_type": "execute_result"
    },
    {
     "data": {
      "image/png": "[encoded data removed]",
      "text/plain": [
       "<Figure size 640x480 with 2 Axes>"
      ]
     },
     "metadata": {},
     "output_type": "display_data"
    }
   ],
   "source": [
    "ConfusionMatrixDisplay.from_predictions(y_test,y_predictions)"
   ]
  },
  {
   "cell_type": "markdown",
   "metadata": {},
   "source": [
    "# 3.2 Newton-cholesky solver"
   ]
  },
  {
   "cell_type": "code",
   "execution_count": 78,
   "metadata": {},
   "outputs": [
    {
     "name": "stderr",
     "output_type": "stream",
     "text": [
      "C:\\Users\\Admin\\anaconda4\\Lib\\site-packages\\sklearn\\utils\\optimize.py:211: ConvergenceWarning: newton-cg failed to converge. Increase the number of iterations.\n",
      "  warnings.warn(\n"
     ]
    },
    {
     "data": {
      "text/html": [
       "<style>#sk-container-id-2 {color: black;}#sk-container-id-2 pre{padding: 0;}#sk-container-id-2 div.sk-toggleable {background-color: white;}#sk-container-id-2 label.sk-toggleable__label {cursor: pointer;display: block;width: 100%;margin-bottom: 0;padding: 0.3em;box-sizing: border-box;text-align: center;}#sk-container-id-2 label.sk-toggleable__label-arrow:before {content: \"▸\";float: left;margin-right: 0.25em;color: #696969;}#sk-container-id-2 label.sk-toggleable__label-arrow:hover:before {color: black;}#sk-container-id-2 div.sk-estimator:hover label.sk-toggleable__label-arrow:before {color: black;}#sk-container-id-2 div.sk-toggleable__content {max-height: 0;max-width: 0;overflow: hidden;text-align: left;background-color: #f0f8ff;}#sk-container-id-2 div.sk-toggleable__content pre {margin: 0.2em;color: black;border-radius: 0.25em;background-color: #f0f8ff;}#sk-container-id-2 input.sk-toggleable__control:checked~div.sk-toggleable__content {max-height: 200px;max-width: 100%;overflow: auto;}#sk-container-id-2 input.sk-toggleable__control:checked~label.sk-toggleable__label-arrow:before {content: \"▾\";}#sk-container-id-2 div.sk-estimator input.sk-toggleable__control:checked~label.sk-toggleable__label {background-color: #d4ebff;}#sk-container-id-2 div.sk-label input.sk-toggleable__control:checked~label.sk-toggleable__label {background-color: #d4ebff;}#sk-container-id-2 input.sk-hidden--visually {border: 0;clip: rect(1px 1px 1px 1px);clip: rect(1px, 1px, 1px, 1px);height: 1px;margin: -1px;overflow: hidden;padding: 0;position: absolute;width: 1px;}#sk-container-id-2 div.sk-estimator {font-family: monospace;background-color: #f0f8ff;border: 1px dotted black;border-radius: 0.25em;box-sizing: border-box;margin-bottom: 0.5em;}#sk-container-id-2 div.sk-estimator:hover {background-color: #d4ebff;}#sk-container-id-2 div.sk-parallel-item::after {content: \"\";width: 100%;border-bottom: 1px solid gray;flex-grow: 1;}#sk-container-id-2 div.sk-label:hover label.sk-toggleable__label {background-color: #d4ebff;}#sk-container-id-2 div.sk-serial::before {content: \"\";position: absolute;border-left: 1px solid gray;box-sizing: border-box;top: 0;bottom: 0;left: 50%;z-index: 0;}#sk-container-id-2 div.sk-serial {display: flex;flex-direction: column;align-items: center;background-color: white;padding-right: 0.2em;padding-left: 0.2em;position: relative;}#sk-container-id-2 div.sk-item {position: relative;z-index: 1;}#sk-container-id-2 div.sk-parallel {display: flex;align-items: stretch;justify-content: center;background-color: white;position: relative;}#sk-container-id-2 div.sk-item::before, #sk-container-id-2 div.sk-parallel-item::before {content: \"\";position: absolute;border-left: 1px solid gray;box-sizing: border-box;top: 0;bottom: 0;left: 50%;z-index: -1;}#sk-container-id-2 div.sk-parallel-item {display: flex;flex-direction: column;z-index: 1;position: relative;background-color: white;}#sk-container-id-2 div.sk-parallel-item:first-child::after {align-self: flex-end;width: 50%;}#sk-container-id-2 div.sk-parallel-item:last-child::after {align-self: flex-start;width: 50%;}#sk-container-id-2 div.sk-parallel-item:only-child::after {width: 0;}#sk-container-id-2 div.sk-dashed-wrapped {border: 1px dashed gray;margin: 0 0.4em 0.5em 0.4em;box-sizing: border-box;padding-bottom: 0.4em;background-color: white;}#sk-container-id-2 div.sk-label label {font-family: monospace;font-weight: bold;display: inline-block;line-height: 1.2em;}#sk-container-id-2 div.sk-label-container {text-align: center;}#sk-container-id-2 div.sk-container {/* jupyter's `normalize.less` sets `[hidden] { display: none; }` but bootstrap.min.css set `[hidden] { display: none !important; }` so we also need the `!important` here to be able to override the default hidden behavior on the sphinx rendered scikit-learn.org. See: https://github.com/scikit-learn/scikit-learn/issues/21755 */display: inline-block !important;position: relative;}#sk-container-id-2 div.sk-text-repr-fallback {display: none;}</style><div id=\"sk-container-id-2\" class=\"sk-top-container\"><div class=\"sk-text-repr-fallback\"><pre>LogisticRegression(random_state=100, solver=&#x27;newton-cg&#x27;)</pre><b>In a Jupyter environment, please rerun this cell to show the HTML representation or trust the notebook. <br />On GitHub, the HTML representation is unable to render, please try loading this page with nbviewer.org.</b></div><div class=\"sk-container\" hidden><div class=\"sk-item\"><div class=\"sk-estimator sk-toggleable\"><input class=\"sk-toggleable__control sk-hidden--visually\" id=\"sk-estimator-id-2\" type=\"checkbox\" checked><label for=\"sk-estimator-id-2\" class=\"sk-toggleable__label sk-toggleable__label-arrow\">LogisticRegression</label><div class=\"sk-toggleable__content\"><pre>LogisticRegression(random_state=100, solver=&#x27;newton-cg&#x27;)</pre></div></div></div></div></div>"
      ],
      "text/plain": [
       "LogisticRegression(random_state=100, solver='newton-cg')"
      ]
     },
     "execution_count": 78,
     "metadata": {},
     "output_type": "execute_result"
    }
   ],
   "source": [
    "log_reg_new = LogisticRegression(solver = 'newton-cg' ,random_state=100)\n",
    "log_reg_new.fit(X_train, y_train)"
   ]
  },
  {
   "cell_type": "code",
   "execution_count": 79,
   "metadata": {},
   "outputs": [],
   "source": [
    "# predictions using the trained model\n",
    "y_predictions_new = log_reg_new.predict(X_test)"
   ]
  },
  {
   "cell_type": "code",
   "execution_count": null,
   "metadata": {},
   "outputs": [],
   "source": [
    "# Checking Accuracy"
   ]
  },
  {
   "cell_type": "code",
   "execution_count": 80,
   "metadata": {},
   "outputs": [
    {
     "data": {
      "text/plain": [
       "(709,)"
      ]
     },
     "execution_count": 80,
     "metadata": {},
     "output_type": "execute_result"
    }
   ],
   "source": [
    "y_predictions_new.shape"
   ]
  },
  {
   "cell_type": "code",
   "execution_count": 81,
   "metadata": {},
   "outputs": [
    {
     "name": "stdout",
     "output_type": "stream",
     "text": [
      "training set score is : 0.810\n",
      "test set score is : 0.787\n"
     ]
    }
   ],
   "source": [
    "#Predicting Score \n",
    "print(\"training set score is : {:.3f}\" .format(log_reg_new.score(X_train,y_train)))\n",
    "print(\"test set score is : {:.3f}\" .format(log_reg_new.score(X_test,y_test)))"
   ]
  },
  {
   "cell_type": "code",
   "execution_count": 84,
   "metadata": {},
   "outputs": [],
   "source": [
    "from sklearn.metrics import precision_score, recall_score, f1_score"
   ]
  },
  {
   "cell_type": "code",
   "execution_count": 85,
   "metadata": {},
   "outputs": [],
   "source": [
    "precision = precision_score(y_test,y_predictions_new, average='weighted')"
   ]
  },
  {
   "cell_type": "code",
   "execution_count": 86,
   "metadata": {},
   "outputs": [
    {
     "name": "stdout",
     "output_type": "stream",
     "text": [
      "Precision:0.7880037805284632,Recall:0.7870239774330042,f1_score:0.7874735407257695\n"
     ]
    }
   ],
   "source": [
    "recall = recall_score(y_test,y_predictions_new, average='weighted')\n",
    "f1_score_value = f1_score(y_test,y_predictions_new, average='weighted')\n",
    "print(f'Precision:{precision},Recall:{recall},f1_score:{f1_score_value}')"
   ]
  },
  {
   "cell_type": "code",
   "execution_count": null,
   "metadata": {},
   "outputs": [],
   "source": [
    "### Confusion Matrix"
   ]
  },
  {
   "cell_type": "code",
   "execution_count": 87,
   "metadata": {},
   "outputs": [
    {
     "data": {
      "text/plain": [
       "<sklearn.metrics._plot.confusion_matrix.ConfusionMatrixDisplay at 0x23673a89e50>"
      ]
     },
     "execution_count": 87,
     "metadata": {},
     "output_type": "execute_result"
    },
    {
     "data": {
      "image/png": "[encoded data removed]",
      "text/plain": [
       "<Figure size 640x480 with 2 Axes>"
      ]
     },
     "metadata": {},
     "output_type": "display_data"
    }
   ],
   "source": [
    "ConfusionMatrixDisplay.from_predictions(y_test,y_predictions_new)"
   ]
  },
  {
   "cell_type": "markdown",
   "metadata": {
    "id": "MyHi6yNPHm6M"
   },
   "source": [
    "### Something New (5 points)\n",
    "Plot the ROC curve using the test data for the logistic regression model implemented above"
   ]
  },
  {
   "cell_type": "code",
   "execution_count": 90,
   "metadata": {},
   "outputs": [
    {
     "data": {
      "image/png": "[encoded data removed]",
      "text/plain": [
       "<Figure size 1200x1000 with 1 Axes>"
      ]
     },
     "metadata": {},
     "output_type": "display_data"
    }
   ],
   "source": [
    "# ROC CURVE FOR LOGISTIC REGRESSION \n",
    "from sklearn.metrics import roc_curve, roc_auc_score, auc\n",
    "\n",
    "# finding the predicted probabilities\n",
    "y_predict = log_reg.predict_proba(X_test)[:, 1]\n",
    "\n",
    "#calculating the receiver operating characteristic (ROC) curve and area under the curve (AUC)\n",
    "fpr, tpr, thresholds = roc_curve(y_test, y_predict)\n",
    "roc_auc = auc(fpr, tpr)\n",
    "\n",
    "# plotting the lines\n",
    "plt.figure(figsize=(12, 10))\n",
    "plt.plot(fpr, tpr, color='purple', lw=2, label='ROC curve')\n",
    "plt.plot([0,1], [0,1], color='yellow', lw=2, linestyle='--')\n",
    "\n",
    "# label x-axis, y-axis, title, and add legend\n",
    "plt.xlabel('False Positive Rate')\n",
    "plt.ylabel('True Postitve Rate')\n",
    "plt.title('ROC Curve for logistic regression')\n",
    "plt.legend(loc='lower right')\n",
    "\n",
    "plt.show()"
   ]
  },
  {
   "cell_type": "code",
   "execution_count": 91,
   "metadata": {
    "id": "-M1JO70kHo3n"
   },
   "outputs": [
    {
     "data": {
      "image/png": "[encoded data removed]",
      "text/plain": [
       "<Figure size 1200x1000 with 1 Axes>"
      ]
     },
     "metadata": {},
     "output_type": "display_data"
    }
   ],
   "source": [
    "# ROC CURVE FOR LOGISTIC REGRESSION USING Newton-cholesky solver\n",
    "from sklearn.metrics import roc_curve, roc_auc_score, auc\n",
    "\n",
    "# finding the predicted probabilities\n",
    "y_predict = log_reg_new.predict_proba(X_test)[:, 1]\n",
    "\n",
    "#calculating the receiver operating characteristic (ROC) curve and area under the curve (AUC)\n",
    "fpr, tpr, thresholds = roc_curve(y_test, y_predict)\n",
    "roc_auc = auc(fpr, tpr)\n",
    "\n",
    "# plotting the lines\n",
    "plt.figure(figsize=(12, 10))\n",
    "plt.plot(fpr, tpr, color='purple', lw=2, label='ROC curve')\n",
    "plt.plot([0,1], [0,1], color='yellow', lw=2, linestyle='--')\n",
    "\n",
    "# label x-axis, y-axis, title, and add legend\n",
    "plt.xlabel('False Positive Rate')\n",
    "plt.ylabel('True Postitve Rate')\n",
    "plt.title('ROC Curve for Newton-cholesky solver')\n",
    "plt.legend(loc='lower right')\n",
    "\n",
    "plt.show()\n"
   ]
  },
  {
   "cell_type": "code",
   "execution_count": null,
   "metadata": {},
   "outputs": [],
   "source": []
  }
 ],
 "metadata": {
  "colab": {
   "provenance": []
  },
  "kernelspec": {
   "display_name": "Python 3 (ipykernel)",
   "language": "python",
   "name": "python3"
  },
  "language_info": {
   "codemirror_mode": {
    "name": "ipython",
    "version": 3
   },
   "file_extension": ".py",
   "mimetype": "text/x-python",
   "name": "python",
   "nbconvert_exporter": "python",
   "pygments_lexer": "ipython3",
   "version": "3.11.4"
  }
 },
 "nbformat": 4,
 "nbformat_minor": 1
}
